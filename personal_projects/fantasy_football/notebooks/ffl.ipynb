{
 "cells": [
  {
   "cell_type": "code",
   "execution_count": 5,
   "metadata": {},
   "outputs": [],
   "source": [
    "import requests\n",
    "import pandas as pd\n",
    "import numpy as np\n",
    "import dotenv\n",
    "import json\n",
    "import os\n",
    "import oauth2 as oauth"
   ]
  },
  {
   "cell_type": "code",
   "execution_count": 1,
   "metadata": {},
   "outputs": [],
   "source": [
    "# url = \"https://www.espn.com/nfl/stats/player\"\n",
    "\n",
    "# cookies = {\"SWID\":\"{1533FE96-8F98-482C-B3B2-1831A642F88A}\",\n",
    "#             \"s_ensNR\":\"1714528343323-Repeat\",\n",
    "#             \"AMCV_EE0201AC512D2BE80A490D4C%40AdobeOrg\":\"-330454231%7CMCIDTS%7C19845%7CMCMID%7C06885895044557247940317566626382553256%7CMCAID%7CNONE%7CMCOPTOUT-1714534743s%7CNONE%7CMCAAMLH-1712804832%7C9%7CMCAAMB-1714527542%7Cj8Odv6LonN4r3an7LhD3WZrU1bUpAkFkkiY1ncBR96t2PTI%7CvVersion%7C3.1.2\",\n",
    "#             \"s_ecid\":\"MCMID%7C06885895044557247940317566626382553256\",\n",
    "#             \"cookieMonster\":\"1\",\n",
    "#             \"mbox\":\"PC#4fdafd83780e4007b5785504d82f309f.34_0#1775444834|session#e0c8a0abed6d408682f90b…cwtest=works\",\n",
    "#             \"client_type\":\"html5\",\n",
    "#             \"client_version\":\"4.7.0\",\n",
    "#             \"tveMVPDAuth\":\"\",\n",
    "#             \"tveAuth\":\"\", \n",
    "#             \"block.check\":\"true%7Cfalse\", \n",
    "#             \"ESPN-ONESITE.WEB-PROD.idn\":\"00711a8781\",\n",
    "#             \"s_c24_s\":\"More%20than%207%20days\",\n",
    "#             \"s_omni_lid\":\"%5B%5BB%5D%5D\",\n",
    "#             \"s_gpv_pn\":\"espn%3Anfl%3Astats\",\n",
    "#             \"s_cc\":\"true\", \n",
    "#             \"s_sq\":\"wdgespcom%252Cwdgespge%3D%2526pid%253Despn%25253Anfl%25253Astats%2526pidt%253D1%2526oid%253Dhttps%25253A%25252F%25252Fwww.espn.com%25252Fnfl%25252Fstats%25252Fplayer%2526ot%253DA\", \n",
    "#             \"country\":\"us\", \n",
    "#             \"hashedIp\":\"16c3696bcc446b9adf126bd1d8d08884e62e0ec5ca8ffd1af791b47be77d9102\"\n",
    "#             }\n",
    "\n",
    "# headers = {\n",
    "#     \"Connection\":\"keep-alive\",\n",
    "#     \"Accept\":\"text/html,application/xhtml+xml,application/xml;q=0.9,image/avif,image/webp,*/*;q=0.8\",\n",
    "#     \"User-Agent\":\"Mozilla/5.0 (Windows NT 10.0; Win64; x64; rv:125.0) Gecko/20100101 Firefox/125.0\"\n",
    "# }\n",
    "\n",
    "# r = requests.get(url, headers=headers, cookies=cookies)\n",
    "# data = r.json()\n",
    "# data"
   ]
  },
  {
   "cell_type": "code",
   "execution_count": 3,
   "metadata": {},
   "outputs": [
    {
     "data": {
      "text/plain": [
       "True"
      ]
     },
     "execution_count": 3,
     "metadata": {},
     "output_type": "execute_result"
    }
   ],
   "source": [
    "dotenv.load_dotenv('../.env')"
   ]
  },
  {
   "cell_type": "code",
   "execution_count": 6,
   "metadata": {},
   "outputs": [
    {
     "name": "stdout",
     "output_type": "stream",
     "text": [
      "<?xml version=\"1.0\" encoding=\"UTF-8\"?>\n",
      "<fantasy_content xml:lang=\"en-US\" yahoo:uri=\"http://fantasysports.yahooapis.com/fantasy/v2/game/nfl\" time=\"12.858152389526ms\" copyright=\"Certain Data by Sportradar, Stats Perform and Rotowire\" refresh_rate=\"60\" xmlns:yahoo=\"http://www.yahooapis.com/v1/base.rng\" xmlns=\"http://fantasysports.yahooapis.com/fantasy/v2/base.rng\">\n",
      " <game>\n",
      "  <game_key>449</game_key>\n",
      "  <game_id>449</game_id>\n",
      "  <name>Football</name>\n",
      "  <code>nfl</code>\n",
      "  <type>full</type>\n",
      "  <url>https://football.fantasysports.yahoo.com/f1</url>\n",
      "  <season>2024</season>\n",
      "  <is_registration_over>0</is_registration_over>\n",
      "  <is_game_over>0</is_game_over>\n",
      "  <is_offseason>0</is_offseason>\n",
      " </game>\n",
      "</fantasy_content>\n",
      "<!-- fantasy-sports-api- -public-production-bf1-7dcb78cf99-rfj5s Wed May  1 02:27:02 UTC 2024 -->\n",
      "\n",
      "Successful fetch\n"
     ]
    }
   ],
   "source": [
    "consumer = oauth.Consumer(os.getenv(\"CLIENT_ID\"), os.getenv(\"CLIENT_SECRET\"))\n",
    "client = oauth.Client(consumer)\n",
    "\n",
    "url = 'https://fantasysports.yahooapis.com/fantasy/v2/game/nfl'\n",
    "\n",
    "try:\n",
    "    response, content = client.request(url)\n",
    "    if response['status'] == '200':\n",
    "        print(content.decode('utf-8'))\n",
    "        print(\"Successful fetch\")\n",
    "    else:\n",
    "        print(\"Couldn't fetch\")\n",
    "except oauth.Error as e:\n",
    "    print('Error:', e.message)\n",
    "    print('Response:', e.response)\n"
   ]
  },
  {
   "cell_type": "code",
   "execution_count": 11,
   "metadata": {},
   "outputs": [
    {
     "name": "stdout",
     "output_type": "stream",
     "text": [
      "<?xml version=\"1.0\" encoding=\"UTF-8\"?>\n",
      "<fantasy_content xml:lang=\"en-US\" yahoo:uri=\"http://fantasysports.yahooapis.com/fantasy/v2/league/pnfl.l.431\" time=\"35.108089447021ms\" copyright=\"Certain Data by Sportradar, Stats Perform and Rotowire\" refresh_rate=\"60\" xmlns:yahoo=\"http://www.yahooapis.com/v1/base.rng\" xmlns=\"http://fantasysports.yahooapis.com/fantasy/v2/base.rng\">\n",
      " <league>\n",
      "  <league_key>223.l.431</league_key>\n",
      "  <league_id>431</league_id>\n",
      "  <name>Y! Friends and Family League</name>\n",
      "  <url>https://football.fantasysports.yahoo.com/2009/f2/431</url>\n",
      "  <logo_url></logo_url>\n",
      "  <draft_status>postdraft</draft_status>\n",
      "  <num_teams>14</num_teams>\n",
      "  <edit_key>16</edit_key>\n",
      "  <weekly_deadline/>\n",
      "  <league_update_timestamp>1262595518</league_update_timestamp>\n",
      "  <scoring_type>head</scoring_type>\n",
      "  <league_type>private</league_type>\n",
      "  <renew/>\n",
      "  <renewed>242_334732</renewed>\n",
      "  <felo_tier/>\n",
      "  <iris_group_chat_id/>\n",
      "  <allow_add_to_dl_extra_pos>0</allow_add_to_dl_extra_pos>\n",
      "  <is_pro_league>0</is_pro_league>\n",
      "  <is_cash_league>0</is_cash_league>\n",
      "  <current_week>16</current_week>\n",
      "  <start_week>1</start_week>\n",
      "  <start_date>2009-09-10</start_date>\n",
      "  <end_week>16</end_week>\n",
      "  <end_date>2009-12-28</end_date>\n",
      "  <is_finished>1</is_finished>\n",
      "  <is_plus_league>0</is_plus_league>\n",
      "  <game_code>pnfl</game_code>\n",
      "  <season>2009</season>\n",
      " </league>\n",
      "</fantasy_content>\n",
      "<!-- fantasy-sports-api- -public-production-bf1-7dcb78cf99-d9dnq Wed May  1 02:37:57 UTC 2024 -->\n",
      "\n",
      "Successful fetch\n"
     ]
    }
   ],
   "source": [
    "url = 'https://fantasysports.yahooapis.com/fantasy/v2/league/pnfl.l.431'\n",
    "\n",
    "try:\n",
    "    response, content = client.request(url)\n",
    "    if response['status'] == '200':\n",
    "        print(content.decode('utf-8'))\n",
    "        print(\"Successful fetch\")\n",
    "    else:\n",
    "        print(\"Couldn't fetch\")\n",
    "except oauth.Error as e:\n",
    "    print('Error:', e.message)\n",
    "    print('Response:', e.response)\n"
   ]
  },
  {
   "cell_type": "code",
   "execution_count": null,
   "metadata": {},
   "outputs": [],
   "source": []
  }
 ],
 "metadata": {
  "kernelspec": {
   "display_name": "realtime_stocks",
   "language": "python",
   "name": "python3"
  },
  "language_info": {
   "codemirror_mode": {
    "name": "ipython",
    "version": 3
   },
   "file_extension": ".py",
   "mimetype": "text/x-python",
   "name": "python",
   "nbconvert_exporter": "python",
   "pygments_lexer": "ipython3",
   "version": "3.12.3"
  }
 },
 "nbformat": 4,
 "nbformat_minor": 2
}
