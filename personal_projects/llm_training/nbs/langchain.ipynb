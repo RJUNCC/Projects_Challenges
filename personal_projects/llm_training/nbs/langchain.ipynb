{
 "cells": [
  {
   "cell_type": "code",
   "execution_count": 3,
   "metadata": {},
   "outputs": [],
   "source": [
    "import os\n",
    "import openai\n",
    "import dotenv\n",
    "import glob\n",
    "import yt_dlp as youtube_dl\n",
    "from yt_dlp import DownloadError\n",
    "import docarray"
   ]
  },
  {
   "cell_type": "code",
   "execution_count": 4,
   "metadata": {},
   "outputs": [
    {
     "data": {
      "text/plain": [
       "True"
      ]
     },
     "execution_count": 4,
     "metadata": {},
     "output_type": "execute_result"
    }
   ],
   "source": [
    "dotenv.load_dotenv()"
   ]
  },
  {
   "cell_type": "code",
   "execution_count": 5,
   "metadata": {},
   "outputs": [],
   "source": [
    "openai_api_key = os.getenv(\"OPENAI_API_KEY\")"
   ]
  },
  {
   "cell_type": "code",
   "execution_count": 6,
   "metadata": {},
   "outputs": [
    {
     "name": "stderr",
     "output_type": "stream",
     "text": [
      "[debug] Encodings: locale utf-8, fs utf-8, pref utf-8, out UTF-8 (No VT), error UTF-8 (No VT), screen UTF-8 (No VT)\n",
      "[debug] yt-dlp version stable@2024.05.26 from yt-dlp/yt-dlp [ae2af1104] (pip) API\n",
      "[debug] params: {'format': 'bestaudio/best', 'postprocessors': [{'key': 'FFmpegExtractAudio', 'preferredcodec': 'mp3', 'preferredquality': '192'}], 'outtmpl': '../videos\\\\%(title)s.%(ext)s', 'verbose': True, 'compat_opts': set(), 'http_headers': {'User-Agent': 'Mozilla/5.0 (Windows NT 10.0; Win64; x64) AppleWebKit/537.36 (KHTML, like Gecko) Chrome/95.0.4638.17 Safari/537.36', 'Accept': 'text/html,application/xhtml+xml,application/xml;q=0.9,*/*;q=0.8', 'Accept-Language': 'en-us,en;q=0.5', 'Sec-Fetch-Mode': 'navigate'}}\n",
      "[debug] Python 3.12.3 (CPython AMD64 64bit) - Windows-10-10.0.19045-SP0 (OpenSSL 3.3.0 9 Apr 2024)\n"
     ]
    },
    {
     "name": "stdout",
     "output_type": "stream",
     "text": [
      "Downlaoding video from https://www.youtube.com/watch?v=DlKl8me4Npw\n"
     ]
    },
    {
     "name": "stderr",
     "output_type": "stream",
     "text": [
      "[debug] exe versions: ffmpeg 7.0.1-essentials_build-www.gyan.dev (setts), ffprobe 7.0.1-essentials_build-www.gyan.dev\n",
      "[debug] Optional libraries: Cryptodome-3.20.0, brotli-1.1.0, certifi-2024.02.02, mutagen-1.47.0, requests-2.31.0, sqlite3-3.45.3, urllib3-2.2.1, websockets-12.0\n",
      "[debug] Proxy map: {}\n",
      "[debug] Request Handlers: urllib, requests, websockets\n",
      "[debug] Loaded 1820 extractors\n"
     ]
    },
    {
     "name": "stdout",
     "output_type": "stream",
     "text": [
      "[youtube] Extracting URL: https://www.youtube.com/watch?v=DlKl8me4Npw\n",
      "[youtube] DlKl8me4Npw: Downloading webpage\n",
      "[youtube] DlKl8me4Npw: Downloading ios player API JSON\n",
      "[youtube] DlKl8me4Npw: Downloading player e056da8e\n"
     ]
    },
    {
     "name": "stderr",
     "output_type": "stream",
     "text": [
      "[debug] Saving youtube-nsig.e056da8e to cache\n",
      "[debug] [youtube] Decrypted nsig oG2wvWesC7ObxvjL => 6oxrO5Ucd2oZIg\n",
      "[debug] Loading youtube-nsig.e056da8e from cache\n",
      "[debug] [youtube] Decrypted nsig WZrOyB2lHNdbSk-N => 2JGwbnX-xUiB8Q\n"
     ]
    },
    {
     "name": "stdout",
     "output_type": "stream",
     "text": [
      "[youtube] DlKl8me4Npw: Downloading m3u8 information\n"
     ]
    },
    {
     "name": "stderr",
     "output_type": "stream",
     "text": [
      "[debug] Sort order given by extractor: quality, res, fps, hdr:12, source, vcodec:vp9.2, channels, acodec, lang, proto\n",
      "[debug] Formats sorted by: hasvid, ie_pref, quality, res, fps, hdr:12(7), source, vcodec:vp9.2(10), channels, acodec, lang, proto, size, br, asr, vext, aext, hasaud, id\n"
     ]
    },
    {
     "name": "stdout",
     "output_type": "stream",
     "text": [
      "[info] DlKl8me4Npw: Downloading 1 format(s): 251\n"
     ]
    },
    {
     "name": "stderr",
     "output_type": "stream",
     "text": [
      "[debug] Invoking http downloader on \"https://rr1---sn-5uaezndd.googlevideo.com/videoplayback?expire=1717647093&ei=leJgZt_AFIC6y_sPmKmi2Ag&ip=2603%3A6080%3A4503%3A3cbf%3Ac8f8%3A33e3%3Ad79%3Adcf5&id=o-AEiU377Ug-X5huH2UnXKwjDSzcx2E7jLBCQnqTT8rVmV&itag=251&source=youtube&requiressl=yes&xpc=EgVo2aDSNQ%3D%3D&mh=4E&mm=31%2C29&mn=sn-5uaezndd%2Csn-5ualdnze&ms=au%2Crdu&mv=m&mvi=1&pl=37&initcwndbps=1162500&bui=AbKP-1MNwvFvdkeKykiQ_DFa275mH9ierFNs2xQNz0nFlWEgJyFcymEc2Zwmo_Ri8Uu5ZBUMi61aeBI5&spc=UWF9f9oS_XDBN-ogMzHR-mUDHUFXDBUX_dL28qB4J4zH_VAWfD7li31VVUqO&vprv=1&svpuc=1&mime=audio%2Fwebm&ns=9drcceFZewP3GP9D_y77BIQQ&rqh=1&gir=yes&clen=4669830&dur=287.721&lmt=1717499236789188&mt=1717625083&fvip=4&keepalive=yes&c=WEB&sefc=1&txp=4532434&n=2JGwbnX-xUiB8Q&sparams=expire%2Cei%2Cip%2Cid%2Citag%2Csource%2Crequiressl%2Cxpc%2Cbui%2Cspc%2Cvprv%2Csvpuc%2Cmime%2Cns%2Crqh%2Cgir%2Cclen%2Cdur%2Clmt&sig=AJfQdSswRAIgUsEX1IMig6XsfOjzYqfuLGl7nLNM3arkXLkuLgo5UdwCIGKxN_ZeIh2UW8153-eWWvxCS9z_asDHveOU1GPqWPa3&lsparams=mh%2Cmm%2Cmn%2Cms%2Cmv%2Cmvi%2Cpl%2Cinitcwndbps&lsig=AHlkHjAwRQIhANLcKys1FwKskiBl8vFR7E69WNZx02eFPw50c57BJuD_AiBwDRGrrFKpZpcsIMa9QT_66Ft3uw_8Ldd90go2mIBSOQ%3D%3D\"\n",
      "[debug] File locking is not supported. Proceeding without locking\n"
     ]
    },
    {
     "name": "stdout",
     "output_type": "stream",
     "text": [
      "[download] Destination: ..\\videos\\If Programming Was an Anime 3.webm\n",
      "[download] 100% of    4.45MiB in 00:00:00 at 20.02MiB/s  \n"
     ]
    },
    {
     "name": "stderr",
     "output_type": "stream",
     "text": [
      "[debug] ffmpeg command line: ffprobe -show_streams \"file:..\\videos\\If Programming Was an Anime 3.webm\"\n"
     ]
    },
    {
     "name": "stdout",
     "output_type": "stream",
     "text": [
      "[ExtractAudio] Destination: ..\\videos\\If Programming Was an Anime 3.mp3\n"
     ]
    },
    {
     "name": "stderr",
     "output_type": "stream",
     "text": [
      "[debug] ffmpeg command line: ffmpeg -y -loglevel repeat+info -i \"file:..\\videos\\If Programming Was an Anime 3.webm\" -vn -acodec libmp3lame -b:a 192.0k -movflags +faststart \"file:..\\videos\\If Programming Was an Anime 3.mp3\"\n"
     ]
    },
    {
     "name": "stdout",
     "output_type": "stream",
     "text": [
      "Deleting original file ..\\videos\\If Programming Was an Anime 3.webm (pass -k to keep)\n"
     ]
    }
   ],
   "source": [
    "# video\n",
    "youtube_url = \"https://www.youtube.com/watch?v=DlKl8me4Npw\"\n",
    "\n",
    "# directory to store the downloaded video\n",
    "output_dir = \"../videos\"\n",
    "\n",
    "ydl_config = {\n",
    "    'format': 'bestaudio/best',\n",
    "    'postprocessors': [\n",
    "        {\n",
    "            'key': 'FFmpegExtractAudio',\n",
    "            'preferredcodec': 'mp3',\n",
    "            'preferredquality': '192'\n",
    "        }\n",
    "    ],\n",
    "    'outtmpl': os.path.join(output_dir, \"%(title)s.%(ext)s\"),\n",
    "    'verbose': True\n",
    "}\n",
    "\n",
    "# check if output directory exists, if not create it\n",
    "if not os.path.exists(output_dir):\n",
    "    os.makedirs(output_dir)\n",
    "\n",
    "# print message that video is downloaded\n",
    "print(f'Downlaoding video from {youtube_url}')\n",
    "\n",
    "# attempt to download the video using the specified config\n",
    "# if a DownloadError occurs, attempt to download the video again\n",
    "try:\n",
    "    with youtube_dl.YoutubeDL(ydl_config) as ydl:\n",
    "        ydl.download([youtube_url])\n",
    "except DownloadError:\n",
    "    with youtube_dl.YoutubeDL(ydl_config) as ydl:\n",
    "        ydl.download([youtube_url])"
   ]
  },
  {
   "cell_type": "code",
   "execution_count": 7,
   "metadata": {},
   "outputs": [
    {
     "name": "stdout",
     "output_type": "stream",
     "text": [
      "../videos\\If Programming Was an Anime 3.mp3\n"
     ]
    }
   ],
   "source": [
    "# find audio file in output directory\n",
    "\n",
    "\n",
    "# find all audio files in output directory\n",
    "audio_file = glob.glob(os.path.join(output_dir, '*.mp3'))\n",
    "\n",
    "# select the first audio file in the list\n",
    "audio_filename = audio_file[0]\n",
    "\n",
    "# print anme of audio file name\n",
    "print(audio_filename)"
   ]
  },
  {
   "cell_type": "code",
   "execution_count": 8,
   "metadata": {},
   "outputs": [
    {
     "name": "stdout",
     "output_type": "stream",
     "text": [
      "converting audio to text...\n"
     ]
    }
   ],
   "source": [
    "# transcribe video using Whisper\n",
    "# define function params\n",
    "audio_file = audio_filename\n",
    "# if not os.path.exists(\"../transcripts\")\n",
    "output_file = \"../transcripts/transcript.txt\"\n",
    "model = \"whisper-1\"\n",
    "\n",
    "# transcribe the audio file to text using OpenAI API\n",
    "print(\"converting audio to text...\")\n",
    "\n",
    "with  open(audio_file, \"rb\") as audio:\n",
    "    response = openai.audio.transcriptions.create(model=model, file=audio, response_format=\"text\")\n",
    "\n",
    "\n",
    "\n",
    "# # extract the transcript from the response\n",
    "# transcript = (response['text'])"
   ]
  },
  {
   "cell_type": "code",
   "execution_count": 9,
   "metadata": {},
   "outputs": [
    {
     "name": "stdout",
     "output_type": "stream",
     "text": [
      "with a Kodo Challenge. Welcome back everyone. Today's Kodo Challenge. We have Jojoma versus Dio. At this company, there is one way for interns to settle their differences. A Kodo Challenge is a coding battle where two interns receive the same coding challenge. They will be judged under speed, efficiency, and correctness. The winner will receive a return offer, but the loser will be kicked out of this company immediately. Today's challenge. Hack this smart contract. Blockchain? Oh no. You have 60 minutes to submit your exploit. Begin coding. Begin coding. Dio's fundamentals are strong. This internship has taught him all the essential skills required to become an elite engineer. Jojoma might be underestimating his opponent. Nani? I've never seen someone so young use such an advanced move. Is he actually reading documentation? 15 minutes have passed. Remember, even if you found a vulnerability, you still have to build up the exploit. This is not going well. Come on, come on. I really need you right now. Yes. The debugger's eye allows me to quickly see all the possible code paths without needing to compile or run the code. This allows me to spot bugs before they even happen. Dio comes from a long line of software developers tracing back to the first developers during the age of enlightenment who all had the debugger's eye. This eye gets activated in times of stress. Some say it's an evolutionary adaptation for developers to meet their deadlines when working with unmeasurable product managers. Wait, but these two are brothers. That means... Incredible. He has two of them. Can it be the descendant of the code god himself? 15 minutes left. Code submission to the judges is now open. Amazing! Jojoma pulls out another keyboard. The double his coding speed. I've never seen anything like this before. Impossible. This dual-yielding technique. That can only mean he was trained in the hidden village of Bururen Suteto, also known as the San Francisco Bay Area. Once you've completed your challenge, you will have to submit your code to the judges. Challenge over. We will now proceed to the grading phase of this challenge. Something doesn't feel right. You know, taking your job offer is just the beginning. I'm coming for everything. The results are in. The winner is... Dio. Nani? Masako! Dio has won by default, as Jojoma did not submit his code. Wait, that's impossible. I sent it. You did, and I received it. What are you talking about? I spoofed the judges email, and you fell for it. You sent your code to me, and I took your code and submitted it for myself. Wait, that's cheating! You cheated! How is this even allowed? You might have found a vulnerability in a smart contract, but I found a vulnerability in you, and you were right. I did take everything from you, including the code today. I guess it does run in the family, brother.\n",
      "\n"
     ]
    }
   ],
   "source": [
    "if output_file is not None:\n",
    "    # create the directory for the output file if it doesn't exist\n",
    "    os.makedirs(os.path.dirname(output_file), exist_ok=True)\n",
    "\n",
    "    # write the transcript to the output file\n",
    "    with open(output_file, \"w\") as file:\n",
    "        file.write(response)\n",
    "\n",
    "print(response)"
   ]
  },
  {
   "cell_type": "code",
   "execution_count": 10,
   "metadata": {},
   "outputs": [],
   "source": [
    "from langchain.document_loaders import TextLoader\n",
    "\n",
    "# new instance of TextLoader class\n",
    "loader = TextLoader('../transcripts/transcript.txt')\n",
    "\n",
    "# load documents from the specified directory using the TextLoader instance\n",
    "docs = loader.load()"
   ]
  },
  {
   "cell_type": "code",
   "execution_count": 11,
   "metadata": {},
   "outputs": [
    {
     "data": {
      "text/plain": [
       "Document(page_content=\"with a Kodo Challenge. Welcome back everyone. Today's Kodo Challenge. We have Jojoma versus Dio. At this company, there is one way for interns to settle their differences. A Kodo Challenge is a coding battle where two interns receive the same coding challenge. They will be judged under speed, efficiency, and correctness. The winner will receive a return offer, but the loser will be kicked out of this company immediately. Today's challenge. Hack this smart contract. Blockchain? Oh no. You have 60 minutes to submit your exploit. Begin coding. Begin coding. Dio's fundamentals are strong. This internship has taught him all the essential skills required to become an elite engineer. Jojoma might be underestimating his opponent. Nani? I've never seen someone so young use such an advanced move. Is he actually reading documentation? 15 minutes have passed. Remember, even if you found a vulnerability, you still have to build up the exploit. This is not going well. Come on, come on. I really need you right now. Yes. The debugger's eye allows me to quickly see all the possible code paths without needing to compile or run the code. This allows me to spot bugs before they even happen. Dio comes from a long line of software developers tracing back to the first developers during the age of enlightenment who all had the debugger's eye. This eye gets activated in times of stress. Some say it's an evolutionary adaptation for developers to meet their deadlines when working with unmeasurable product managers. Wait, but these two are brothers. That means... Incredible. He has two of them. Can it be the descendant of the code god himself? 15 minutes left. Code submission to the judges is now open. Amazing! Jojoma pulls out another keyboard. The double his coding speed. I've never seen anything like this before. Impossible. This dual-yielding technique. That can only mean he was trained in the hidden village of Bururen Suteto, also known as the San Francisco Bay Area. Once you've completed your challenge, you will have to submit your code to the judges. Challenge over. We will now proceed to the grading phase of this challenge. Something doesn't feel right. You know, taking your job offer is just the beginning. I'm coming for everything. The results are in. The winner is... Dio. Nani? Masako! Dio has won by default, as Jojoma did not submit his code. Wait, that's impossible. I sent it. You did, and I received it. What are you talking about? I spoofed the judges email, and you fell for it. You sent your code to me, and I took your code and submitted it for myself. Wait, that's cheating! You cheated! How is this even allowed? You might have found a vulnerability in a smart contract, but I found a vulnerability in you, and you were right. I did take everything from you, including the code today. I guess it does run in the family, brother.\\n\", metadata={'source': '../transcripts/transcript.txt'})"
      ]
     },
     "execution_count": 11,
     "metadata": {},
     "output_type": "execute_result"
    }
   ],
   "source": [
    "# show the first element of docs to verify it has been loaded\n",
    "docs[0]"
   ]
  },
  {
   "cell_type": "code",
   "execution_count": 12,
   "metadata": {},
   "outputs": [],
   "source": [
    "# import tiktoken to tokenize document/break it down into pieces, assign values, allows model to understand relationships between them\n",
    "import tiktoken"
   ]
  },
  {
   "cell_type": "code",
   "execution_count": 13,
   "metadata": {},
   "outputs": [],
   "source": [
    "from langchain.chains import RetrievalQA\n",
    "from langchain.chat_models import ChatOpenAI\n",
    "from langchain.vectorstores import DocArrayInMemorySearch\n",
    "from langchain.embeddings import OpenAIEmbeddings"
   ]
  },
  {
   "cell_type": "code",
   "execution_count": 14,
   "metadata": {},
   "outputs": [
    {
     "name": "stderr",
     "output_type": "stream",
     "text": [
      "d:\\ANNACONDA\\envs\\llm_train\\Lib\\site-packages\\langchain_core\\_api\\deprecation.py:119: LangChainDeprecationWarning: The class `OpenAIEmbeddings` was deprecated in LangChain 0.0.9 and will be removed in 0.3.0. An updated version of the class exists in the langchain-openai package and should be used instead. To use it run `pip install -U langchain-openai` and import as `from langchain_openai import OpenAIEmbeddings`.\n",
      "  warn_deprecated(\n",
      "d:\\ANNACONDA\\envs\\llm_train\\Lib\\site-packages\\pydantic\\_migration.py:283: UserWarning: `pydantic.error_wrappers:ValidationError` has been moved to `pydantic:ValidationError`.\n",
      "  warnings.warn(f'`{import_path}` has been moved to `{new_location}`.')\n"
     ]
    }
   ],
   "source": [
    "# create instance of DocArrayInMemorySearch\n",
    "db = DocArrayInMemorySearch.from_documents(\n",
    "    docs,\n",
    "    OpenAIEmbeddings()\n",
    ")"
   ]
  },
  {
   "cell_type": "code",
   "execution_count": 15,
   "metadata": {},
   "outputs": [
    {
     "name": "stderr",
     "output_type": "stream",
     "text": [
      "d:\\ANNACONDA\\envs\\llm_train\\Lib\\site-packages\\langchain_core\\_api\\deprecation.py:119: LangChainDeprecationWarning: The class `ChatOpenAI` was deprecated in LangChain 0.0.10 and will be removed in 0.3.0. An updated version of the class exists in the langchain-openai package and should be used instead. To use it run `pip install -U langchain-openai` and import as `from langchain_openai import ChatOpenAI`.\n",
      "  warn_deprecated(\n"
     ]
    }
   ],
   "source": [
    "# retrieval process\n",
    "# init retriever\n",
    "retriever = db.as_retriever()\n",
    "\n",
    "# create new ChatOpenAI instance with a temp of 0, basically 0 creativity because we want it to be a search\n",
    "llm = ChatOpenAI(temperature=0.0)"
   ]
  },
  {
   "cell_type": "code",
   "execution_count": 16,
   "metadata": {},
   "outputs": [],
   "source": [
    "# create new RQA with specified params\n",
    "qa_stuff = RetrievalQA.from_chain_type(\n",
    "    llm=llm,\n",
    "    chain_type=\"stuff\",\n",
    "    retriever=retriever,\n",
    "    verbose=True\n",
    ")"
   ]
  },
  {
   "cell_type": "code",
   "execution_count": 17,
   "metadata": {},
   "outputs": [],
   "source": [
    "import textwrap"
   ]
  },
  {
   "cell_type": "code",
   "execution_count": 18,
   "metadata": {},
   "outputs": [
    {
     "name": "stderr",
     "output_type": "stream",
     "text": [
      "d:\\ANNACONDA\\envs\\llm_train\\Lib\\site-packages\\langchain_core\\_api\\deprecation.py:119: LangChainDeprecationWarning: The method `Chain.run` was deprecated in langchain 0.1.0 and will be removed in 0.3.0. Use invoke instead.\n",
      "  warn_deprecated(\n"
     ]
    },
    {
     "name": "stdout",
     "output_type": "stream",
     "text": [
      "\n",
      "\n",
      "\u001b[1m> Entering new RetrievalQA chain...\u001b[0m\n",
      "\n",
      "\u001b[1m> Finished chain.\u001b[0m\n"
     ]
    },
    {
     "data": {
      "text/plain": [
       "'This is not a tutorial; it is a fictional story about a coding\\ncompetition between two interns, Jojoma and Dio, where they have to\\nhack a smart contract as part of a Kodo Challenge at their company.\\nThe story involves coding, competition, and a twist ending where Dio\\ncheats to win the challenge.'"
      ]
     },
     "execution_count": 18,
     "metadata": {},
     "output_type": "execute_result"
    }
   ],
   "source": [
    "query = \"What is this tutorial about?\"\n",
    "\n",
    "response = qa_stuff.run(query)\n",
    "\n",
    "textwrap.fill(response)"
   ]
  },
  {
   "cell_type": "code",
   "execution_count": 19,
   "metadata": {},
   "outputs": [
    {
     "name": "stdout",
     "output_type": "stream",
     "text": [
      "\n",
      "\n",
      "\u001b[1m> Entering new RetrievalQA chain...\u001b[0m\n",
      "\n",
      "\u001b[1m> Finished chain.\u001b[0m\n"
     ]
    },
    {
     "data": {
      "text/plain": [
       "\"Training, test, and validation sets are commonly used in machine learning and data science to evaluate the performance of a model. Here's a brief explanation of each:\\n\\n1. Training Set: The training set is used to train the machine learning model. It consists of a dataset with input data and the corresponding correct output. The model learns from this data by adjusting its parameters through iterative optimization algorithms to minimize the error between its predictions and the actual output.\\n\\n2. Test Set: The test set is used to evaluate the performance of the trained model. It is a separate dataset that the model has not seen during training. The model makes predictions on this data, and the performance metrics are calculated to assess how well the model generalizes to new, unseen data.\\n\\n3. Validation Set: The validation set is used to fine-tune the model hyperparameters and avoid overfitting. It is a subset of the training data that is used to evaluate the model's performance during training. The validation set helps in selecting the best model by comparing different models' performances on this data.\\n\\nIn summary, the training set is used to train the model, the validation set is used to fine-tune the model, and the test set is used to evaluate the model's performance on unseen data.\""
      ]
     },
     "execution_count": 19,
     "metadata": {},
     "output_type": "execute_result"
    }
   ],
   "source": [
    "query = \"What is the difference between training, test, and validation set?\"\n",
    "\n",
    "response = qa_stuff.run(query)\n",
    "\n",
    "response"
   ]
  }
 ],
 "metadata": {
  "kernelspec": {
   "display_name": "llm_train",
   "language": "python",
   "name": "python3"
  },
  "language_info": {
   "codemirror_mode": {
    "name": "ipython",
    "version": 3
   },
   "file_extension": ".py",
   "mimetype": "text/x-python",
   "name": "python",
   "nbconvert_exporter": "python",
   "pygments_lexer": "ipython3",
   "version": "3.12.3"
  }
 },
 "nbformat": 4,
 "nbformat_minor": 2
}
