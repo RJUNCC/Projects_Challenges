{
 "cells": [
  {
   "cell_type": "markdown",
   "id": "cbf411f1-3ff5-4be0-9bad-6693e13d5bbc",
   "metadata": {},
   "source": [
    "# Regression Models and Regression Metrics"
   ]
  },
  {
   "cell_type": "code",
   "execution_count": 4,
   "id": "2b95c2da-081a-476e-bc2a-99f14b649a48",
   "metadata": {
    "tags": []
   },
   "outputs": [
    {
     "name": "stdout",
     "output_type": "stream",
     "text": [
      "Requirement already satisfied: lightgbm in c:\\users\\mscipion\\appdata\\local\\anaconda3\\lib\\site-packages (4.3.0)\n",
      "Requirement already satisfied: numpy in c:\\users\\mscipion\\appdata\\local\\anaconda3\\lib\\site-packages (from lightgbm) (1.24.4)\n",
      "Requirement already satisfied: scipy in c:\\users\\mscipion\\appdata\\local\\anaconda3\\lib\\site-packages (from lightgbm) (1.10.1)\n"
     ]
    }
   ],
   "source": [
    "!pip install lightgbm\n"
   ]
  },
  {
   "cell_type": "markdown",
   "id": "f3896eb3-f1bf-4a0e-9396-72b1a665ff1b",
   "metadata": {},
   "source": [
    "### 1) Using Various Regression Models"
   ]
  },
  {
   "cell_type": "code",
   "execution_count": 5,
   "id": "40b1ed14-7382-4176-b17f-032a03279890",
   "metadata": {},
   "outputs": [],
   "source": [
    "import numpy as np\n",
    "import pandas as pd\n",
    "from sklearn.datasets import make_regression\n",
    "from sklearn.model_selection import train_test_split\n",
    "from sklearn.linear_model import LinearRegression\n",
    "from sklearn.svm import SVR\n",
    "from sklearn.ensemble import RandomForestRegressor\n",
    "from sklearn.neighbors import KNeighborsRegressor\n",
    "from xgboost import XGBRegressor\n",
    "from lightgbm import LGBMRegressor\n",
    "from sklearn.metrics import mean_squared_error, mean_absolute_error, r2_score"
   ]
  },
  {
   "cell_type": "markdown",
   "id": "b9c85915-11c3-4f01-b82f-18fb9aaf522f",
   "metadata": {},
   "source": [
    "### 2) Synthetic Dataset"
   ]
  },
  {
   "cell_type": "code",
   "execution_count": 6,
   "id": "10e4d310-8bbf-4983-bfb6-a29a401c93b1",
   "metadata": {},
   "outputs": [],
   "source": [
    "# Generate sample regression data\n",
    "X, y = make_regression(n_samples=1000, n_features=10, noise=0.1, random_state=42)\n",
    "\n",
    "# Splitting the data into train and test sets\n",
    "X_train, X_test, y_train, y_test = train_test_split(X, y, test_size=0.2, random_state=42)\n"
   ]
  },
  {
   "cell_type": "markdown",
   "id": "952b4a34-5e9f-470d-bcd4-f53ce06131c7",
   "metadata": {},
   "source": [
    "### 3) Training and Test Datasets"
   ]
  },
  {
   "cell_type": "code",
   "execution_count": 7,
   "id": "46442c60-eec5-4954-a1f4-337bdab0fc93",
   "metadata": {
    "tags": []
   },
   "outputs": [],
   "source": [
    "# Split the dataset into training and testing sets\n",
    "X_train, X_test, y_train, y_test = train_test_split(X, y, test_size=0.2, random_state=42)"
   ]
  },
  {
   "cell_type": "markdown",
   "id": "ed7221ba-5674-4510-bd59-bc8554462971",
   "metadata": {},
   "source": [
    "### 4) Regression Models"
   ]
  },
  {
   "cell_type": "code",
   "execution_count": 8,
   "id": "a93eae6f-6649-4840-9b74-a4ff9e8e9fcb",
   "metadata": {},
   "outputs": [],
   "source": [
    "# Define models\n",
    "models = {\n",
    "    'Linear Regression': LinearRegression(),\n",
    "    'Support Vector Machine': SVR(),\n",
    "    'Random Forest': RandomForestRegressor(),\n",
    "    'K-Nearest Neighbors': KNeighborsRegressor(),\n",
    "    'XGBoost': XGBRegressor(),\n",
    "    'LightGBM': LGBMRegressor()\n",
    "}"
   ]
  },
  {
   "cell_type": "markdown",
   "id": "2e8c4c77-7bfd-4e89-863f-16bf18f340db",
   "metadata": {},
   "source": [
    "### 5) Training and Evaluating the Regression Models"
   ]
  },
  {
   "cell_type": "code",
   "execution_count": 9,
   "id": "4e5f767d-2fe4-4b90-b4a8-2d31e984cc55",
   "metadata": {
    "tags": []
   },
   "outputs": [
    {
     "name": "stdout",
     "output_type": "stream",
     "text": [
      "Training Linear Regression...\n",
      "Metrics for Linear Regression:\n",
      "Mean Squared Error: 0.009511914910420909\n",
      "Mean Absolute Error: 0.07773328130098563\n",
      "R^2 Score: 0.9999994362016347\n",
      "==========================================\n",
      "Training Support Vector Machine...\n",
      "Metrics for Support Vector Machine:\n",
      "Mean Squared Error: 12758.146129860857\n",
      "Mean Absolute Error: 89.70507889979308\n",
      "R^2 Score: 0.24378823816737083\n",
      "==========================================\n",
      "Training Random Forest...\n",
      "Metrics for Random Forest:\n",
      "Mean Squared Error: 2539.1602140973346\n",
      "Mean Absolute Error: 39.88197789542273\n",
      "R^2 Score: 0.8494967215821658\n",
      "==========================================\n",
      "Training K-Nearest Neighbors...\n",
      "Metrics for K-Nearest Neighbors:\n",
      "Mean Squared Error: 3728.3442939729885\n",
      "Mean Absolute Error: 48.86073406351671\n",
      "R^2 Score: 0.77901038453659\n",
      "==========================================\n",
      "Training XGBoost...\n",
      "Metrics for XGBoost:\n",
      "Mean Squared Error: 1709.6566968047127\n",
      "Mean Absolute Error: 33.272145604976856\n",
      "R^2 Score: 0.8986637643384835\n",
      "==========================================\n",
      "Training LightGBM...\n",
      "[LightGBM] [Info] Auto-choosing col-wise multi-threading, the overhead of testing was 0.000533 seconds.\n",
      "You can set `force_col_wise=true` to remove the overhead.\n",
      "[LightGBM] [Info] Total Bins 2550\n",
      "[LightGBM] [Info] Number of data points in the train set: 800, number of used features: 10\n",
      "[LightGBM] [Info] Start training from score -0.326169\n",
      "[LightGBM] [Warning] No further splits with positive gain, best gain: -inf\n",
      "[LightGBM] [Warning] No further splits with positive gain, best gain: -inf\n",
      "[LightGBM] [Warning] No further splits with positive gain, best gain: -inf\n",
      "[LightGBM] [Warning] No further splits with positive gain, best gain: -inf\n",
      "[LightGBM] [Warning] No further splits with positive gain, best gain: -inf\n",
      "[LightGBM] [Warning] No further splits with positive gain, best gain: -inf\n",
      "[LightGBM] [Warning] No further splits with positive gain, best gain: -inf\n",
      "[LightGBM] [Warning] No further splits with positive gain, best gain: -inf\n",
      "[LightGBM] [Warning] No further splits with positive gain, best gain: -inf\n",
      "[LightGBM] [Warning] No further splits with positive gain, best gain: -inf\n",
      "[LightGBM] [Warning] No further splits with positive gain, best gain: -inf\n",
      "[LightGBM] [Warning] No further splits with positive gain, best gain: -inf\n",
      "[LightGBM] [Warning] No further splits with positive gain, best gain: -inf\n",
      "[LightGBM] [Warning] No further splits with positive gain, best gain: -inf\n",
      "[LightGBM] [Warning] No further splits with positive gain, best gain: -inf\n",
      "Metrics for LightGBM:\n",
      "Mean Squared Error: 1017.466661674672\n",
      "Mean Absolute Error: 24.627515914162576\n",
      "R^2 Score: 0.9396918448025835\n",
      "==========================================\n"
     ]
    }
   ],
   "source": [
    "# Train and evaluate models\n",
    "for name, model in models.items():\n",
    "    print(f\"Training {name}...\")\n",
    "    model.fit(X_train, y_train)\n",
    "    y_pred = model.predict(X_test)\n",
    "\n",
    "    # Calculate regression metrics\n",
    "    mse = mean_squared_error(y_test, y_pred)\n",
    "    mae = mean_absolute_error(y_test, y_pred)\n",
    "    r2 = r2_score(y_test, y_pred)\n",
    "    \n",
    "    print(f\"Metrics for {name}:\")\n",
    "    print(f\"Mean Squared Error: {mse}\")\n",
    "    print(f\"Mean Absolute Error: {mae}\")\n",
    "    print(f\"R^2 Score: {r2}\")\n",
    "    print(\"==========================================\")"
   ]
  },
  {
   "cell_type": "code",
   "execution_count": null,
   "id": "9a751be5-884d-44ac-bb28-938ac21554f3",
   "metadata": {},
   "outputs": [],
   "source": []
  }
 ],
 "metadata": {
  "kernelspec": {
   "display_name": "Python 3 (ipykernel)",
   "language": "python",
   "name": "python3"
  },
  "language_info": {
   "codemirror_mode": {
    "name": "ipython",
    "version": 3
   },
   "file_extension": ".py",
   "mimetype": "text/x-python",
   "name": "python",
   "nbconvert_exporter": "python",
   "pygments_lexer": "ipython3",
   "version": "3.11.3"
  }
 },
 "nbformat": 4,
 "nbformat_minor": 5
}
