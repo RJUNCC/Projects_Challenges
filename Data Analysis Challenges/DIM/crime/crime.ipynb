{
 "cells": [
  {
   "cell_type": "code",
   "execution_count": 42,
   "metadata": {},
   "outputs": [],
   "source": [
    "import pandas as pd\n",
    "import numpy as np\n",
    "import seaborn as sns\n",
    "import matplotlib.pyplot as plt\n",
    "import plotly.graph_objects as go\n",
    "import plotly.express as px"
   ]
  },
  {
   "cell_type": "code",
   "execution_count": 43,
   "metadata": {},
   "outputs": [
    {
     "data": {
      "text/html": [
       "<div>\n",
       "<style scoped>\n",
       "    .dataframe tbody tr th:only-of-type {\n",
       "        vertical-align: middle;\n",
       "    }\n",
       "\n",
       "    .dataframe tbody tr th {\n",
       "        vertical-align: top;\n",
       "    }\n",
       "\n",
       "    .dataframe thead th {\n",
       "        text-align: right;\n",
       "    }\n",
       "</style>\n",
       "<table border=\"1\" class=\"dataframe\">\n",
       "  <thead>\n",
       "    <tr style=\"text-align: right;\">\n",
       "      <th></th>\n",
       "      <th>JURISDICTION</th>\n",
       "      <th>YEAR</th>\n",
       "      <th>POPULATION</th>\n",
       "      <th>MURDER</th>\n",
       "      <th>RAPE</th>\n",
       "      <th>ROBBERY</th>\n",
       "      <th>AGG. ASSAULT</th>\n",
       "      <th>B &amp; E</th>\n",
       "      <th>LARCENY THEFT</th>\n",
       "      <th>M/V THEFT</th>\n",
       "      <th>...</th>\n",
       "      <th>B &amp; E PER 100,000 PEOPLE</th>\n",
       "      <th>LARCENY THEFT PER 100,000 PEOPLE</th>\n",
       "      <th>M/V THEFT PER 100,000 PEOPLE</th>\n",
       "      <th>MURDER  RATE PERCENT CHANGE PER 100,000 PEOPLE</th>\n",
       "      <th>RAPE RATE PERCENT CHANGE PER 100,000 PEOPLE</th>\n",
       "      <th>ROBBERY RATE PERCENT CHANGE PER 100,000 PEOPLE</th>\n",
       "      <th>AGG. ASSAULT  RATE PERCENT CHANGE PER 100,000 PEOPLE</th>\n",
       "      <th>B &amp; E RATE PERCENT CHANGE PER 100,000 PEOPLE</th>\n",
       "      <th>LARCENY THEFT  RATE PERCENT CHANGE PER 100,000 PEOPLE</th>\n",
       "      <th>M/V THEFT  RATE PERCENT CHANGE PER 100,000 PEOPLE</th>\n",
       "    </tr>\n",
       "  </thead>\n",
       "  <tbody>\n",
       "    <tr>\n",
       "      <th>0</th>\n",
       "      <td>Allegany County</td>\n",
       "      <td>1975</td>\n",
       "      <td>79655</td>\n",
       "      <td>3</td>\n",
       "      <td>5</td>\n",
       "      <td>20</td>\n",
       "      <td>114</td>\n",
       "      <td>669</td>\n",
       "      <td>1425</td>\n",
       "      <td>93</td>\n",
       "      <td>...</td>\n",
       "      <td>839.9</td>\n",
       "      <td>1789.0</td>\n",
       "      <td>116.8</td>\n",
       "      <td>NaN</td>\n",
       "      <td>NaN</td>\n",
       "      <td>NaN</td>\n",
       "      <td>NaN</td>\n",
       "      <td>NaN</td>\n",
       "      <td>NaN</td>\n",
       "      <td>NaN</td>\n",
       "    </tr>\n",
       "    <tr>\n",
       "      <th>1</th>\n",
       "      <td>Allegany County</td>\n",
       "      <td>1976</td>\n",
       "      <td>83923</td>\n",
       "      <td>2</td>\n",
       "      <td>2</td>\n",
       "      <td>24</td>\n",
       "      <td>59</td>\n",
       "      <td>581</td>\n",
       "      <td>1384</td>\n",
       "      <td>73</td>\n",
       "      <td>...</td>\n",
       "      <td>692.3</td>\n",
       "      <td>1649.1</td>\n",
       "      <td>87.0</td>\n",
       "      <td>-36.7</td>\n",
       "      <td>-62.0</td>\n",
       "      <td>13.9</td>\n",
       "      <td>-50.9</td>\n",
       "      <td>-17.6</td>\n",
       "      <td>-7.8</td>\n",
       "      <td>-25.5</td>\n",
       "    </tr>\n",
       "    <tr>\n",
       "      <th>2</th>\n",
       "      <td>Allegany County</td>\n",
       "      <td>1977</td>\n",
       "      <td>82102</td>\n",
       "      <td>3</td>\n",
       "      <td>7</td>\n",
       "      <td>32</td>\n",
       "      <td>85</td>\n",
       "      <td>592</td>\n",
       "      <td>1390</td>\n",
       "      <td>102</td>\n",
       "      <td>...</td>\n",
       "      <td>721.1</td>\n",
       "      <td>1693.0</td>\n",
       "      <td>124.2</td>\n",
       "      <td>53.3</td>\n",
       "      <td>257.8</td>\n",
       "      <td>36.3</td>\n",
       "      <td>47.3</td>\n",
       "      <td>4.2</td>\n",
       "      <td>2.7</td>\n",
       "      <td>42.8</td>\n",
       "    </tr>\n",
       "    <tr>\n",
       "      <th>3</th>\n",
       "      <td>Allegany County</td>\n",
       "      <td>1978</td>\n",
       "      <td>79966</td>\n",
       "      <td>1</td>\n",
       "      <td>2</td>\n",
       "      <td>18</td>\n",
       "      <td>81</td>\n",
       "      <td>539</td>\n",
       "      <td>1390</td>\n",
       "      <td>100</td>\n",
       "      <td>...</td>\n",
       "      <td>674.0</td>\n",
       "      <td>1738.2</td>\n",
       "      <td>125.1</td>\n",
       "      <td>-65.8</td>\n",
       "      <td>-70.7</td>\n",
       "      <td>-42.2</td>\n",
       "      <td>-2.2</td>\n",
       "      <td>-6.5</td>\n",
       "      <td>2.7</td>\n",
       "      <td>0.7</td>\n",
       "    </tr>\n",
       "    <tr>\n",
       "      <th>4</th>\n",
       "      <td>Allegany County</td>\n",
       "      <td>1979</td>\n",
       "      <td>79721</td>\n",
       "      <td>1</td>\n",
       "      <td>7</td>\n",
       "      <td>18</td>\n",
       "      <td>84</td>\n",
       "      <td>502</td>\n",
       "      <td>1611</td>\n",
       "      <td>99</td>\n",
       "      <td>...</td>\n",
       "      <td>629.7</td>\n",
       "      <td>2020.8</td>\n",
       "      <td>124.2</td>\n",
       "      <td>0.3</td>\n",
       "      <td>251.1</td>\n",
       "      <td>0.3</td>\n",
       "      <td>4.0</td>\n",
       "      <td>-6.6</td>\n",
       "      <td>16.3</td>\n",
       "      <td>-0.7</td>\n",
       "    </tr>\n",
       "    <tr>\n",
       "      <th>...</th>\n",
       "      <td>...</td>\n",
       "      <td>...</td>\n",
       "      <td>...</td>\n",
       "      <td>...</td>\n",
       "      <td>...</td>\n",
       "      <td>...</td>\n",
       "      <td>...</td>\n",
       "      <td>...</td>\n",
       "      <td>...</td>\n",
       "      <td>...</td>\n",
       "      <td>...</td>\n",
       "      <td>...</td>\n",
       "      <td>...</td>\n",
       "      <td>...</td>\n",
       "      <td>...</td>\n",
       "      <td>...</td>\n",
       "      <td>...</td>\n",
       "      <td>...</td>\n",
       "      <td>...</td>\n",
       "      <td>...</td>\n",
       "      <td>...</td>\n",
       "    </tr>\n",
       "    <tr>\n",
       "      <th>1099</th>\n",
       "      <td>Worcester County</td>\n",
       "      <td>2016</td>\n",
       "      <td>51255</td>\n",
       "      <td>3</td>\n",
       "      <td>17</td>\n",
       "      <td>39</td>\n",
       "      <td>93</td>\n",
       "      <td>289</td>\n",
       "      <td>1514</td>\n",
       "      <td>32</td>\n",
       "      <td>...</td>\n",
       "      <td>563.8</td>\n",
       "      <td>2953.9</td>\n",
       "      <td>62.4</td>\n",
       "      <td>201.8</td>\n",
       "      <td>14.0</td>\n",
       "      <td>45.3</td>\n",
       "      <td>-8.3</td>\n",
       "      <td>6.5</td>\n",
       "      <td>-2.5</td>\n",
       "      <td>15.0</td>\n",
       "    </tr>\n",
       "    <tr>\n",
       "      <th>1100</th>\n",
       "      <td>Worcester County</td>\n",
       "      <td>2017</td>\n",
       "      <td>51408</td>\n",
       "      <td>2</td>\n",
       "      <td>26</td>\n",
       "      <td>43</td>\n",
       "      <td>106</td>\n",
       "      <td>220</td>\n",
       "      <td>1514</td>\n",
       "      <td>39</td>\n",
       "      <td>...</td>\n",
       "      <td>427.9</td>\n",
       "      <td>2945.1</td>\n",
       "      <td>75.9</td>\n",
       "      <td>-33.5</td>\n",
       "      <td>52.5</td>\n",
       "      <td>9.9</td>\n",
       "      <td>13.6</td>\n",
       "      <td>-24.1</td>\n",
       "      <td>-0.3</td>\n",
       "      <td>21.5</td>\n",
       "    </tr>\n",
       "    <tr>\n",
       "      <th>1101</th>\n",
       "      <td>Worcester County</td>\n",
       "      <td>2018</td>\n",
       "      <td>51304</td>\n",
       "      <td>0</td>\n",
       "      <td>12</td>\n",
       "      <td>24</td>\n",
       "      <td>88</td>\n",
       "      <td>215</td>\n",
       "      <td>1178</td>\n",
       "      <td>34</td>\n",
       "      <td>...</td>\n",
       "      <td>419.1</td>\n",
       "      <td>2296.1</td>\n",
       "      <td>66.3</td>\n",
       "      <td>-100.0</td>\n",
       "      <td>-53.8</td>\n",
       "      <td>-44.1</td>\n",
       "      <td>-16.8</td>\n",
       "      <td>-2.1</td>\n",
       "      <td>-22.0</td>\n",
       "      <td>-12.6</td>\n",
       "    </tr>\n",
       "    <tr>\n",
       "      <th>1102</th>\n",
       "      <td>Worcester County</td>\n",
       "      <td>2019</td>\n",
       "      <td>51606</td>\n",
       "      <td>0</td>\n",
       "      <td>12</td>\n",
       "      <td>24</td>\n",
       "      <td>94</td>\n",
       "      <td>186</td>\n",
       "      <td>1086</td>\n",
       "      <td>30</td>\n",
       "      <td>...</td>\n",
       "      <td>360.4</td>\n",
       "      <td>2104.4</td>\n",
       "      <td>58.1</td>\n",
       "      <td>0.0</td>\n",
       "      <td>-0.6</td>\n",
       "      <td>-0.6</td>\n",
       "      <td>6.2</td>\n",
       "      <td>-14.0</td>\n",
       "      <td>-8.3</td>\n",
       "      <td>-12.3</td>\n",
       "    </tr>\n",
       "    <tr>\n",
       "      <th>1103</th>\n",
       "      <td>Worcester County</td>\n",
       "      <td>2020</td>\n",
       "      <td>52191</td>\n",
       "      <td>1</td>\n",
       "      <td>31</td>\n",
       "      <td>39</td>\n",
       "      <td>163</td>\n",
       "      <td>189</td>\n",
       "      <td>1085</td>\n",
       "      <td>28</td>\n",
       "      <td>...</td>\n",
       "      <td>362.1</td>\n",
       "      <td>2078.9</td>\n",
       "      <td>53.6</td>\n",
       "      <td>191.6</td>\n",
       "      <td>155.4</td>\n",
       "      <td>60.7</td>\n",
       "      <td>71.5</td>\n",
       "      <td>0.5</td>\n",
       "      <td>-1.2</td>\n",
       "      <td>-7.7</td>\n",
       "    </tr>\n",
       "  </tbody>\n",
       "</table>\n",
       "<p>1104 rows × 38 columns</p>\n",
       "</div>"
      ],
      "text/plain": [
       "          JURISDICTION  YEAR  POPULATION  MURDER  RAPE  ROBBERY  AGG. ASSAULT  \\\n",
       "0      Allegany County  1975       79655       3     5       20           114   \n",
       "1      Allegany County  1976       83923       2     2       24            59   \n",
       "2      Allegany County  1977       82102       3     7       32            85   \n",
       "3      Allegany County  1978       79966       1     2       18            81   \n",
       "4      Allegany County  1979       79721       1     7       18            84   \n",
       "...                ...   ...         ...     ...   ...      ...           ...   \n",
       "1099  Worcester County  2016       51255       3    17       39            93   \n",
       "1100  Worcester County  2017       51408       2    26       43           106   \n",
       "1101  Worcester County  2018       51304       0    12       24            88   \n",
       "1102  Worcester County  2019       51606       0    12       24            94   \n",
       "1103  Worcester County  2020       52191       1    31       39           163   \n",
       "\n",
       "      B & E  LARCENY THEFT  M/V THEFT  ...  B & E PER 100,000 PEOPLE  \\\n",
       "0       669           1425         93  ...                     839.9   \n",
       "1       581           1384         73  ...                     692.3   \n",
       "2       592           1390        102  ...                     721.1   \n",
       "3       539           1390        100  ...                     674.0   \n",
       "4       502           1611         99  ...                     629.7   \n",
       "...     ...            ...        ...  ...                       ...   \n",
       "1099    289           1514         32  ...                     563.8   \n",
       "1100    220           1514         39  ...                     427.9   \n",
       "1101    215           1178         34  ...                     419.1   \n",
       "1102    186           1086         30  ...                     360.4   \n",
       "1103    189           1085         28  ...                     362.1   \n",
       "\n",
       "      LARCENY THEFT PER 100,000 PEOPLE  M/V THEFT PER 100,000 PEOPLE  \\\n",
       "0                               1789.0                         116.8   \n",
       "1                               1649.1                          87.0   \n",
       "2                               1693.0                         124.2   \n",
       "3                               1738.2                         125.1   \n",
       "4                               2020.8                         124.2   \n",
       "...                                ...                           ...   \n",
       "1099                            2953.9                          62.4   \n",
       "1100                            2945.1                          75.9   \n",
       "1101                            2296.1                          66.3   \n",
       "1102                            2104.4                          58.1   \n",
       "1103                            2078.9                          53.6   \n",
       "\n",
       "      MURDER  RATE PERCENT CHANGE PER 100,000 PEOPLE  \\\n",
       "0                                                NaN   \n",
       "1                                              -36.7   \n",
       "2                                               53.3   \n",
       "3                                              -65.8   \n",
       "4                                                0.3   \n",
       "...                                              ...   \n",
       "1099                                           201.8   \n",
       "1100                                           -33.5   \n",
       "1101                                          -100.0   \n",
       "1102                                             0.0   \n",
       "1103                                           191.6   \n",
       "\n",
       "      RAPE RATE PERCENT CHANGE PER 100,000 PEOPLE  \\\n",
       "0                                             NaN   \n",
       "1                                           -62.0   \n",
       "2                                           257.8   \n",
       "3                                           -70.7   \n",
       "4                                           251.1   \n",
       "...                                           ...   \n",
       "1099                                         14.0   \n",
       "1100                                         52.5   \n",
       "1101                                        -53.8   \n",
       "1102                                         -0.6   \n",
       "1103                                        155.4   \n",
       "\n",
       "      ROBBERY RATE PERCENT CHANGE PER 100,000 PEOPLE  \\\n",
       "0                                                NaN   \n",
       "1                                               13.9   \n",
       "2                                               36.3   \n",
       "3                                              -42.2   \n",
       "4                                                0.3   \n",
       "...                                              ...   \n",
       "1099                                            45.3   \n",
       "1100                                             9.9   \n",
       "1101                                           -44.1   \n",
       "1102                                            -0.6   \n",
       "1103                                            60.7   \n",
       "\n",
       "      AGG. ASSAULT  RATE PERCENT CHANGE PER 100,000 PEOPLE  \\\n",
       "0                                                   NaN      \n",
       "1                                                 -50.9      \n",
       "2                                                  47.3      \n",
       "3                                                  -2.2      \n",
       "4                                                   4.0      \n",
       "...                                                 ...      \n",
       "1099                                               -8.3      \n",
       "1100                                               13.6      \n",
       "1101                                              -16.8      \n",
       "1102                                                6.2      \n",
       "1103                                               71.5      \n",
       "\n",
       "      B & E RATE PERCENT CHANGE PER 100,000 PEOPLE  \\\n",
       "0                                              NaN   \n",
       "1                                            -17.6   \n",
       "2                                              4.2   \n",
       "3                                             -6.5   \n",
       "4                                             -6.6   \n",
       "...                                            ...   \n",
       "1099                                           6.5   \n",
       "1100                                         -24.1   \n",
       "1101                                          -2.1   \n",
       "1102                                         -14.0   \n",
       "1103                                           0.5   \n",
       "\n",
       "      LARCENY THEFT  RATE PERCENT CHANGE PER 100,000 PEOPLE  \\\n",
       "0                                                   NaN       \n",
       "1                                                  -7.8       \n",
       "2                                                   2.7       \n",
       "3                                                   2.7       \n",
       "4                                                  16.3       \n",
       "...                                                 ...       \n",
       "1099                                               -2.5       \n",
       "1100                                               -0.3       \n",
       "1101                                              -22.0       \n",
       "1102                                               -8.3       \n",
       "1103                                               -1.2       \n",
       "\n",
       "      M/V THEFT  RATE PERCENT CHANGE PER 100,000 PEOPLE  \n",
       "0                                                   NaN  \n",
       "1                                                 -25.5  \n",
       "2                                                  42.8  \n",
       "3                                                   0.7  \n",
       "4                                                  -0.7  \n",
       "...                                                 ...  \n",
       "1099                                               15.0  \n",
       "1100                                               21.5  \n",
       "1101                                              -12.6  \n",
       "1102                                              -12.3  \n",
       "1103                                               -7.7  \n",
       "\n",
       "[1104 rows x 38 columns]"
      ]
     },
     "execution_count": 43,
     "metadata": {},
     "output_type": "execute_result"
    }
   ],
   "source": [
    "df = pd.read_csv(\"MD_Crime_Data.csv\")\n",
    "df"
   ]
  },
  {
   "cell_type": "code",
   "execution_count": 49,
   "metadata": {},
   "outputs": [],
   "source": [
    "df_new = pd.DataFrame()\n",
    "df_new[\"OVERALL CRIME\"] = df.groupby(\"YEAR\")[\"GRAND TOTAL\"].sum()\n",
    "df_new = df_new.reset_index()"
   ]
  },
  {
   "cell_type": "code",
   "execution_count": 58,
   "metadata": {},
   "outputs": [
    {
     "data": {
      "application/vnd.plotly.v1+json": {
       "config": {
        "plotlyServerURL": "https://plot.ly"
       },
       "data": [
        {
         "type": "scatter",
         "x": [
          1975,
          1976,
          1977,
          1978,
          1979,
          1980,
          1981,
          1982,
          1983,
          1984,
          1985,
          1986,
          1987,
          1988,
          1989,
          1990,
          1991,
          1992,
          1993,
          1994,
          1995,
          1996,
          1997,
          1998,
          1999,
          2000,
          2001,
          2002,
          2003,
          2004,
          2005,
          2006,
          2007,
          2008,
          2009,
          2010,
          2011,
          2012,
          2013,
          2014,
          2015,
          2016,
          2017,
          2018,
          2019,
          2020
         ],
         "y": [
          241894,
          234137,
          235312,
          240095,
          260490,
          276953,
          278778,
          255461,
          229874,
          226233,
          235813,
          249292,
          251170,
          264173,
          260307,
          278061,
          300993,
          304802,
          302359,
          305318,
          316048,
          308127,
          286845,
          273585,
          260929,
          255243,
          265502,
          261145,
          247432,
          240513,
          237203,
          232926,
          228099,
          232823,
          215197,
          204362,
          194932,
          189144,
          184450,
          176418,
          171588,
          167862,
          166361,
          151350,
          145053,
          122958
         ]
        }
       ],
       "layout": {
        "template": {
         "data": {
          "bar": [
           {
            "error_x": {
             "color": "#2a3f5f"
            },
            "error_y": {
             "color": "#2a3f5f"
            },
            "marker": {
             "line": {
              "color": "#E5ECF6",
              "width": 0.5
             },
             "pattern": {
              "fillmode": "overlay",
              "size": 10,
              "solidity": 0.2
             }
            },
            "type": "bar"
           }
          ],
          "barpolar": [
           {
            "marker": {
             "line": {
              "color": "#E5ECF6",
              "width": 0.5
             },
             "pattern": {
              "fillmode": "overlay",
              "size": 10,
              "solidity": 0.2
             }
            },
            "type": "barpolar"
           }
          ],
          "carpet": [
           {
            "aaxis": {
             "endlinecolor": "#2a3f5f",
             "gridcolor": "white",
             "linecolor": "white",
             "minorgridcolor": "white",
             "startlinecolor": "#2a3f5f"
            },
            "baxis": {
             "endlinecolor": "#2a3f5f",
             "gridcolor": "white",
             "linecolor": "white",
             "minorgridcolor": "white",
             "startlinecolor": "#2a3f5f"
            },
            "type": "carpet"
           }
          ],
          "choropleth": [
           {
            "colorbar": {
             "outlinewidth": 0,
             "ticks": ""
            },
            "type": "choropleth"
           }
          ],
          "contour": [
           {
            "colorbar": {
             "outlinewidth": 0,
             "ticks": ""
            },
            "colorscale": [
             [
              0,
              "#0d0887"
             ],
             [
              0.1111111111111111,
              "#46039f"
             ],
             [
              0.2222222222222222,
              "#7201a8"
             ],
             [
              0.3333333333333333,
              "#9c179e"
             ],
             [
              0.4444444444444444,
              "#bd3786"
             ],
             [
              0.5555555555555556,
              "#d8576b"
             ],
             [
              0.6666666666666666,
              "#ed7953"
             ],
             [
              0.7777777777777778,
              "#fb9f3a"
             ],
             [
              0.8888888888888888,
              "#fdca26"
             ],
             [
              1,
              "#f0f921"
             ]
            ],
            "type": "contour"
           }
          ],
          "contourcarpet": [
           {
            "colorbar": {
             "outlinewidth": 0,
             "ticks": ""
            },
            "type": "contourcarpet"
           }
          ],
          "heatmap": [
           {
            "colorbar": {
             "outlinewidth": 0,
             "ticks": ""
            },
            "colorscale": [
             [
              0,
              "#0d0887"
             ],
             [
              0.1111111111111111,
              "#46039f"
             ],
             [
              0.2222222222222222,
              "#7201a8"
             ],
             [
              0.3333333333333333,
              "#9c179e"
             ],
             [
              0.4444444444444444,
              "#bd3786"
             ],
             [
              0.5555555555555556,
              "#d8576b"
             ],
             [
              0.6666666666666666,
              "#ed7953"
             ],
             [
              0.7777777777777778,
              "#fb9f3a"
             ],
             [
              0.8888888888888888,
              "#fdca26"
             ],
             [
              1,
              "#f0f921"
             ]
            ],
            "type": "heatmap"
           }
          ],
          "heatmapgl": [
           {
            "colorbar": {
             "outlinewidth": 0,
             "ticks": ""
            },
            "colorscale": [
             [
              0,
              "#0d0887"
             ],
             [
              0.1111111111111111,
              "#46039f"
             ],
             [
              0.2222222222222222,
              "#7201a8"
             ],
             [
              0.3333333333333333,
              "#9c179e"
             ],
             [
              0.4444444444444444,
              "#bd3786"
             ],
             [
              0.5555555555555556,
              "#d8576b"
             ],
             [
              0.6666666666666666,
              "#ed7953"
             ],
             [
              0.7777777777777778,
              "#fb9f3a"
             ],
             [
              0.8888888888888888,
              "#fdca26"
             ],
             [
              1,
              "#f0f921"
             ]
            ],
            "type": "heatmapgl"
           }
          ],
          "histogram": [
           {
            "marker": {
             "pattern": {
              "fillmode": "overlay",
              "size": 10,
              "solidity": 0.2
             }
            },
            "type": "histogram"
           }
          ],
          "histogram2d": [
           {
            "colorbar": {
             "outlinewidth": 0,
             "ticks": ""
            },
            "colorscale": [
             [
              0,
              "#0d0887"
             ],
             [
              0.1111111111111111,
              "#46039f"
             ],
             [
              0.2222222222222222,
              "#7201a8"
             ],
             [
              0.3333333333333333,
              "#9c179e"
             ],
             [
              0.4444444444444444,
              "#bd3786"
             ],
             [
              0.5555555555555556,
              "#d8576b"
             ],
             [
              0.6666666666666666,
              "#ed7953"
             ],
             [
              0.7777777777777778,
              "#fb9f3a"
             ],
             [
              0.8888888888888888,
              "#fdca26"
             ],
             [
              1,
              "#f0f921"
             ]
            ],
            "type": "histogram2d"
           }
          ],
          "histogram2dcontour": [
           {
            "colorbar": {
             "outlinewidth": 0,
             "ticks": ""
            },
            "colorscale": [
             [
              0,
              "#0d0887"
             ],
             [
              0.1111111111111111,
              "#46039f"
             ],
             [
              0.2222222222222222,
              "#7201a8"
             ],
             [
              0.3333333333333333,
              "#9c179e"
             ],
             [
              0.4444444444444444,
              "#bd3786"
             ],
             [
              0.5555555555555556,
              "#d8576b"
             ],
             [
              0.6666666666666666,
              "#ed7953"
             ],
             [
              0.7777777777777778,
              "#fb9f3a"
             ],
             [
              0.8888888888888888,
              "#fdca26"
             ],
             [
              1,
              "#f0f921"
             ]
            ],
            "type": "histogram2dcontour"
           }
          ],
          "mesh3d": [
           {
            "colorbar": {
             "outlinewidth": 0,
             "ticks": ""
            },
            "type": "mesh3d"
           }
          ],
          "parcoords": [
           {
            "line": {
             "colorbar": {
              "outlinewidth": 0,
              "ticks": ""
             }
            },
            "type": "parcoords"
           }
          ],
          "pie": [
           {
            "automargin": true,
            "type": "pie"
           }
          ],
          "scatter": [
           {
            "fillpattern": {
             "fillmode": "overlay",
             "size": 10,
             "solidity": 0.2
            },
            "type": "scatter"
           }
          ],
          "scatter3d": [
           {
            "line": {
             "colorbar": {
              "outlinewidth": 0,
              "ticks": ""
             }
            },
            "marker": {
             "colorbar": {
              "outlinewidth": 0,
              "ticks": ""
             }
            },
            "type": "scatter3d"
           }
          ],
          "scattercarpet": [
           {
            "marker": {
             "colorbar": {
              "outlinewidth": 0,
              "ticks": ""
             }
            },
            "type": "scattercarpet"
           }
          ],
          "scattergeo": [
           {
            "marker": {
             "colorbar": {
              "outlinewidth": 0,
              "ticks": ""
             }
            },
            "type": "scattergeo"
           }
          ],
          "scattergl": [
           {
            "marker": {
             "colorbar": {
              "outlinewidth": 0,
              "ticks": ""
             }
            },
            "type": "scattergl"
           }
          ],
          "scattermapbox": [
           {
            "marker": {
             "colorbar": {
              "outlinewidth": 0,
              "ticks": ""
             }
            },
            "type": "scattermapbox"
           }
          ],
          "scatterpolar": [
           {
            "marker": {
             "colorbar": {
              "outlinewidth": 0,
              "ticks": ""
             }
            },
            "type": "scatterpolar"
           }
          ],
          "scatterpolargl": [
           {
            "marker": {
             "colorbar": {
              "outlinewidth": 0,
              "ticks": ""
             }
            },
            "type": "scatterpolargl"
           }
          ],
          "scatterternary": [
           {
            "marker": {
             "colorbar": {
              "outlinewidth": 0,
              "ticks": ""
             }
            },
            "type": "scatterternary"
           }
          ],
          "surface": [
           {
            "colorbar": {
             "outlinewidth": 0,
             "ticks": ""
            },
            "colorscale": [
             [
              0,
              "#0d0887"
             ],
             [
              0.1111111111111111,
              "#46039f"
             ],
             [
              0.2222222222222222,
              "#7201a8"
             ],
             [
              0.3333333333333333,
              "#9c179e"
             ],
             [
              0.4444444444444444,
              "#bd3786"
             ],
             [
              0.5555555555555556,
              "#d8576b"
             ],
             [
              0.6666666666666666,
              "#ed7953"
             ],
             [
              0.7777777777777778,
              "#fb9f3a"
             ],
             [
              0.8888888888888888,
              "#fdca26"
             ],
             [
              1,
              "#f0f921"
             ]
            ],
            "type": "surface"
           }
          ],
          "table": [
           {
            "cells": {
             "fill": {
              "color": "#EBF0F8"
             },
             "line": {
              "color": "white"
             }
            },
            "header": {
             "fill": {
              "color": "#C8D4E3"
             },
             "line": {
              "color": "white"
             }
            },
            "type": "table"
           }
          ]
         },
         "layout": {
          "annotationdefaults": {
           "arrowcolor": "#2a3f5f",
           "arrowhead": 0,
           "arrowwidth": 1
          },
          "autotypenumbers": "strict",
          "coloraxis": {
           "colorbar": {
            "outlinewidth": 0,
            "ticks": ""
           }
          },
          "colorscale": {
           "diverging": [
            [
             0,
             "#8e0152"
            ],
            [
             0.1,
             "#c51b7d"
            ],
            [
             0.2,
             "#de77ae"
            ],
            [
             0.3,
             "#f1b6da"
            ],
            [
             0.4,
             "#fde0ef"
            ],
            [
             0.5,
             "#f7f7f7"
            ],
            [
             0.6,
             "#e6f5d0"
            ],
            [
             0.7,
             "#b8e186"
            ],
            [
             0.8,
             "#7fbc41"
            ],
            [
             0.9,
             "#4d9221"
            ],
            [
             1,
             "#276419"
            ]
           ],
           "sequential": [
            [
             0,
             "#0d0887"
            ],
            [
             0.1111111111111111,
             "#46039f"
            ],
            [
             0.2222222222222222,
             "#7201a8"
            ],
            [
             0.3333333333333333,
             "#9c179e"
            ],
            [
             0.4444444444444444,
             "#bd3786"
            ],
            [
             0.5555555555555556,
             "#d8576b"
            ],
            [
             0.6666666666666666,
             "#ed7953"
            ],
            [
             0.7777777777777778,
             "#fb9f3a"
            ],
            [
             0.8888888888888888,
             "#fdca26"
            ],
            [
             1,
             "#f0f921"
            ]
           ],
           "sequentialminus": [
            [
             0,
             "#0d0887"
            ],
            [
             0.1111111111111111,
             "#46039f"
            ],
            [
             0.2222222222222222,
             "#7201a8"
            ],
            [
             0.3333333333333333,
             "#9c179e"
            ],
            [
             0.4444444444444444,
             "#bd3786"
            ],
            [
             0.5555555555555556,
             "#d8576b"
            ],
            [
             0.6666666666666666,
             "#ed7953"
            ],
            [
             0.7777777777777778,
             "#fb9f3a"
            ],
            [
             0.8888888888888888,
             "#fdca26"
            ],
            [
             1,
             "#f0f921"
            ]
           ]
          },
          "colorway": [
           "#636efa",
           "#EF553B",
           "#00cc96",
           "#ab63fa",
           "#FFA15A",
           "#19d3f3",
           "#FF6692",
           "#B6E880",
           "#FF97FF",
           "#FECB52"
          ],
          "font": {
           "color": "#2a3f5f"
          },
          "geo": {
           "bgcolor": "white",
           "lakecolor": "white",
           "landcolor": "#E5ECF6",
           "showlakes": true,
           "showland": true,
           "subunitcolor": "white"
          },
          "hoverlabel": {
           "align": "left"
          },
          "hovermode": "closest",
          "mapbox": {
           "style": "light"
          },
          "paper_bgcolor": "white",
          "plot_bgcolor": "#E5ECF6",
          "polar": {
           "angularaxis": {
            "gridcolor": "white",
            "linecolor": "white",
            "ticks": ""
           },
           "bgcolor": "#E5ECF6",
           "radialaxis": {
            "gridcolor": "white",
            "linecolor": "white",
            "ticks": ""
           }
          },
          "scene": {
           "xaxis": {
            "backgroundcolor": "#E5ECF6",
            "gridcolor": "white",
            "gridwidth": 2,
            "linecolor": "white",
            "showbackground": true,
            "ticks": "",
            "zerolinecolor": "white"
           },
           "yaxis": {
            "backgroundcolor": "#E5ECF6",
            "gridcolor": "white",
            "gridwidth": 2,
            "linecolor": "white",
            "showbackground": true,
            "ticks": "",
            "zerolinecolor": "white"
           },
           "zaxis": {
            "backgroundcolor": "#E5ECF6",
            "gridcolor": "white",
            "gridwidth": 2,
            "linecolor": "white",
            "showbackground": true,
            "ticks": "",
            "zerolinecolor": "white"
           }
          },
          "shapedefaults": {
           "line": {
            "color": "#2a3f5f"
           }
          },
          "ternary": {
           "aaxis": {
            "gridcolor": "white",
            "linecolor": "white",
            "ticks": ""
           },
           "baxis": {
            "gridcolor": "white",
            "linecolor": "white",
            "ticks": ""
           },
           "bgcolor": "#E5ECF6",
           "caxis": {
            "gridcolor": "white",
            "linecolor": "white",
            "ticks": ""
           }
          },
          "title": {
           "x": 0.05
          },
          "xaxis": {
           "automargin": true,
           "gridcolor": "white",
           "linecolor": "white",
           "ticks": "",
           "title": {
            "standoff": 15
           },
           "zerolinecolor": "white",
           "zerolinewidth": 2
          },
          "yaxis": {
           "automargin": true,
           "gridcolor": "white",
           "linecolor": "white",
           "ticks": "",
           "title": {
            "standoff": 15
           },
           "zerolinecolor": "white",
           "zerolinewidth": 2
          }
         }
        }
       }
      }
     },
     "metadata": {},
     "output_type": "display_data"
    }
   ],
   "source": [
    "fig = go.Figure()\n",
    "fig.add_trace(\n",
    "    go.Scatter(\n",
    "        x=list(df_new[\"YEAR\"]),\n",
    "        y=list(df_new[\"OVERALL CRIME\"])\n",
    "    )\n",
    ")\n",
    "fig.show()"
   ]
  },
  {
   "cell_type": "code",
   "execution_count": null,
   "metadata": {},
   "outputs": [],
   "source": []
  }
 ],
 "metadata": {
  "kernelspec": {
   "display_name": "venv",
   "language": "python",
   "name": "python3"
  },
  "language_info": {
   "codemirror_mode": {
    "name": "ipython",
    "version": 3
   },
   "file_extension": ".py",
   "mimetype": "text/x-python",
   "name": "python",
   "nbconvert_exporter": "python",
   "pygments_lexer": "ipython3",
   "version": "3.11.9"
  }
 },
 "nbformat": 4,
 "nbformat_minor": 2
}
