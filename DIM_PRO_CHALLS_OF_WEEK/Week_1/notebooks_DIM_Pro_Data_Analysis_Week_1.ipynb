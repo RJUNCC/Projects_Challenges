{
  "metadata": {
    "language_info": {
      "codemirror_mode": {
        "name": "python",
        "version": 3
      },
      "file_extension": ".py",
      "mimetype": "text/x-python",
      "name": "python",
      "nbconvert_exporter": "python",
      "pygments_lexer": "ipython3",
      "version": "3.8"
    },
    "kernelspec": {
      "name": "python",
      "display_name": "Python (Pyodide)",
      "language": "python"
    }
  },
  "nbformat_minor": 4,
  "nbformat": 4,
  "cells": [
    {
      "cell_type": "code",
      "source": "import pandas as pd\nimport numpy as np",
      "metadata": {
        "trusted": true
      },
      "execution_count": 2,
      "outputs": []
    },
    {
      "cell_type": "code",
      "source": "df = pd.read_csv(\"Pro Week 1 Pizza Delivery Analysis.csv\")\ndf.head()",
      "metadata": {
        "trusted": true
      },
      "execution_count": 3,
      "outputs": [
        {
          "execution_count": 3,
          "output_type": "execute_result",
          "data": {
            "text/plain": "   order_id      customer_name customer_phone       customer_address  \\\n0         1      Garold Artois   602-814-3850      36219 Helena Road   \n1         2       Wini Ellaway            NaN   93865 Oxford Parkway   \n2         3      Ingar Jocelyn   922-575-1373       8 Stuart Parkway   \n3         4  Derron Ambrosetti   905-836-6939   5 Golf Course Avenue   \n4         5     Murial Laidlaw   438-772-0006  50 Norway Maple Trail   \n\n  pizza_size pizza_toppings  order_date  delivery_time  delivery_fee  \\\n0      large      pepperoni  10/28/2020             56          9.02   \n1      small         onions  11/13/2020             21          4.94   \n2     medium      pepperoni    2/1/2021             38          7.49   \n3     medium        peppers   5/22/2020             26          0.74   \n4     medium      pepperoni   7/20/2020             29          1.43   \n\n  payment_method  order_total order_status  driver_rating  delivery_duration  \n0           cash        45.85  in progress            4.4                 77  \n1    credit card        13.11    delivered            4.7                 91  \n2    credit card        25.54      pending            2.0                117  \n3           cash        32.76  in progress            1.8                 52  \n4    credit card        41.66    delivered            3.2                 87  ",
            "text/html": "<div>\n<style scoped>\n    .dataframe tbody tr th:only-of-type {\n        vertical-align: middle;\n    }\n\n    .dataframe tbody tr th {\n        vertical-align: top;\n    }\n\n    .dataframe thead th {\n        text-align: right;\n    }\n</style>\n<table border=\"1\" class=\"dataframe\">\n  <thead>\n    <tr style=\"text-align: right;\">\n      <th></th>\n      <th>order_id</th>\n      <th>customer_name</th>\n      <th>customer_phone</th>\n      <th>customer_address</th>\n      <th>pizza_size</th>\n      <th>pizza_toppings</th>\n      <th>order_date</th>\n      <th>delivery_time</th>\n      <th>delivery_fee</th>\n      <th>payment_method</th>\n      <th>order_total</th>\n      <th>order_status</th>\n      <th>driver_rating</th>\n      <th>delivery_duration</th>\n    </tr>\n  </thead>\n  <tbody>\n    <tr>\n      <th>0</th>\n      <td>1</td>\n      <td>Garold Artois</td>\n      <td>602-814-3850</td>\n      <td>36219 Helena Road</td>\n      <td>large</td>\n      <td>pepperoni</td>\n      <td>10/28/2020</td>\n      <td>56</td>\n      <td>9.02</td>\n      <td>cash</td>\n      <td>45.85</td>\n      <td>in progress</td>\n      <td>4.4</td>\n      <td>77</td>\n    </tr>\n    <tr>\n      <th>1</th>\n      <td>2</td>\n      <td>Wini Ellaway</td>\n      <td>NaN</td>\n      <td>93865 Oxford Parkway</td>\n      <td>small</td>\n      <td>onions</td>\n      <td>11/13/2020</td>\n      <td>21</td>\n      <td>4.94</td>\n      <td>credit card</td>\n      <td>13.11</td>\n      <td>delivered</td>\n      <td>4.7</td>\n      <td>91</td>\n    </tr>\n    <tr>\n      <th>2</th>\n      <td>3</td>\n      <td>Ingar Jocelyn</td>\n      <td>922-575-1373</td>\n      <td>8 Stuart Parkway</td>\n      <td>medium</td>\n      <td>pepperoni</td>\n      <td>2/1/2021</td>\n      <td>38</td>\n      <td>7.49</td>\n      <td>credit card</td>\n      <td>25.54</td>\n      <td>pending</td>\n      <td>2.0</td>\n      <td>117</td>\n    </tr>\n    <tr>\n      <th>3</th>\n      <td>4</td>\n      <td>Derron Ambrosetti</td>\n      <td>905-836-6939</td>\n      <td>5 Golf Course Avenue</td>\n      <td>medium</td>\n      <td>peppers</td>\n      <td>5/22/2020</td>\n      <td>26</td>\n      <td>0.74</td>\n      <td>cash</td>\n      <td>32.76</td>\n      <td>in progress</td>\n      <td>1.8</td>\n      <td>52</td>\n    </tr>\n    <tr>\n      <th>4</th>\n      <td>5</td>\n      <td>Murial Laidlaw</td>\n      <td>438-772-0006</td>\n      <td>50 Norway Maple Trail</td>\n      <td>medium</td>\n      <td>pepperoni</td>\n      <td>7/20/2020</td>\n      <td>29</td>\n      <td>1.43</td>\n      <td>credit card</td>\n      <td>41.66</td>\n      <td>delivered</td>\n      <td>3.2</td>\n      <td>87</td>\n    </tr>\n  </tbody>\n</table>\n</div>"
          },
          "metadata": {}
        }
      ]
    },
    {
      "cell_type": "code",
      "source": "# How many deliveries took more than 45 minutes?\ndf_count = df[df['delivery_duration']>45].shape[0]\ndf_count",
      "metadata": {
        "trusted": true
      },
      "execution_count": 8,
      "outputs": [
        {
          "execution_count": 8,
          "output_type": "execute_result",
          "data": {
            "text/plain": "622"
          },
          "metadata": {}
        }
      ]
    },
    {
      "cell_type": "code",
      "source": "# How many deliveries were made in less than 20 minutes?\ndf_count_1 = df[df['delivery_duration']<20].shape[0]\ndf_count_1",
      "metadata": {
        "trusted": true
      },
      "execution_count": 9,
      "outputs": [
        {
          "execution_count": 9,
          "output_type": "execute_result",
          "data": {
            "text/plain": "124"
          },
          "metadata": {}
        }
      ]
    },
    {
      "cell_type": "code",
      "source": "# Identify orders where the customer phone number is missing. How many such instances are there? Also why is this a problem for the business?\ndf_phone_missing = df[df[\"customer_phone\"].isnull()]\ndf_phone_missing",
      "metadata": {
        "trusted": true
      },
      "execution_count": 11,
      "outputs": [
        {
          "execution_count": 11,
          "output_type": "execute_result",
          "data": {
            "text/plain": "     order_id      customer_name customer_phone           customer_address  \\\n1           2       Wini Ellaway            NaN       93865 Oxford Parkway   \n6           7      Preston Tuley            NaN             027 Derek Park   \n9          10   Stillman Faulder            NaN         766 Vernon Terrace   \n10         11   Lynelle Luckcock            NaN         32 Moland Junction   \n12         13      Yetta Fawdrey            NaN             49 Lawn Center   \n..        ...                ...            ...                        ...   \n986       987         Rowe Mewes            NaN          9 Mccormick Place   \n989       990   Estrella Timmons            NaN          9304 Chinook Hill   \n990       991      Goraud Traice            NaN    30 Westerfield Crossing   \n991       992  Mechelle Whiteman            NaN  40763 Morningstar Terrace   \n996       997        Ardra Stert            NaN        1769 Mendota Center   \n\n    pizza_size pizza_toppings  order_date  delivery_time  delivery_fee  \\\n1        small         onions  11/13/2020             21          4.94   \n6        large         onions   11/6/2020             18          6.43   \n9       medium      pepperoni    5/2/2020             33          1.12   \n10       large      pepperoni  10/18/2020             42          2.97   \n12       small      mushrooms  10/21/2020             21          1.98   \n..         ...            ...         ...            ...           ...   \n986      large      pepperoni    4/6/2021             30          5.01   \n989      large      pepperoni    9/4/2021             22          9.96   \n990      small         onions    6/1/2020             43          8.81   \n991      small      mushrooms  12/13/2021             24          7.48   \n996      large        peppers    1/2/2020             57          2.92   \n\n     payment_method  order_total order_status  driver_rating  \\\n1       credit card        13.11    delivered            4.7   \n6    online payment        34.22  in progress            4.3   \n9       credit card        32.24      pending            2.3   \n10             cash        12.15    delivered            3.2   \n12             cash        21.85  in progress            2.6   \n..              ...          ...          ...            ...   \n986            cash        15.62  in progress            2.7   \n989     credit card        33.51      pending            2.5   \n990     credit card        27.76  in progress            2.1   \n991            cash        15.59  in progress            3.2   \n996            cash        26.70    delivered            1.9   \n\n     delivery_duration  \n1                   91  \n6                   48  \n9                   18  \n10                  49  \n12                  70  \n..                 ...  \n986                 14  \n989                 39  \n990                108  \n991                 69  \n996                 40  \n\n[350 rows x 14 columns]",
            "text/html": "<div>\n<style scoped>\n    .dataframe tbody tr th:only-of-type {\n        vertical-align: middle;\n    }\n\n    .dataframe tbody tr th {\n        vertical-align: top;\n    }\n\n    .dataframe thead th {\n        text-align: right;\n    }\n</style>\n<table border=\"1\" class=\"dataframe\">\n  <thead>\n    <tr style=\"text-align: right;\">\n      <th></th>\n      <th>order_id</th>\n      <th>customer_name</th>\n      <th>customer_phone</th>\n      <th>customer_address</th>\n      <th>pizza_size</th>\n      <th>pizza_toppings</th>\n      <th>order_date</th>\n      <th>delivery_time</th>\n      <th>delivery_fee</th>\n      <th>payment_method</th>\n      <th>order_total</th>\n      <th>order_status</th>\n      <th>driver_rating</th>\n      <th>delivery_duration</th>\n    </tr>\n  </thead>\n  <tbody>\n    <tr>\n      <th>1</th>\n      <td>2</td>\n      <td>Wini Ellaway</td>\n      <td>NaN</td>\n      <td>93865 Oxford Parkway</td>\n      <td>small</td>\n      <td>onions</td>\n      <td>11/13/2020</td>\n      <td>21</td>\n      <td>4.94</td>\n      <td>credit card</td>\n      <td>13.11</td>\n      <td>delivered</td>\n      <td>4.7</td>\n      <td>91</td>\n    </tr>\n    <tr>\n      <th>6</th>\n      <td>7</td>\n      <td>Preston Tuley</td>\n      <td>NaN</td>\n      <td>027 Derek Park</td>\n      <td>large</td>\n      <td>onions</td>\n      <td>11/6/2020</td>\n      <td>18</td>\n      <td>6.43</td>\n      <td>online payment</td>\n      <td>34.22</td>\n      <td>in progress</td>\n      <td>4.3</td>\n      <td>48</td>\n    </tr>\n    <tr>\n      <th>9</th>\n      <td>10</td>\n      <td>Stillman Faulder</td>\n      <td>NaN</td>\n      <td>766 Vernon Terrace</td>\n      <td>medium</td>\n      <td>pepperoni</td>\n      <td>5/2/2020</td>\n      <td>33</td>\n      <td>1.12</td>\n      <td>credit card</td>\n      <td>32.24</td>\n      <td>pending</td>\n      <td>2.3</td>\n      <td>18</td>\n    </tr>\n    <tr>\n      <th>10</th>\n      <td>11</td>\n      <td>Lynelle Luckcock</td>\n      <td>NaN</td>\n      <td>32 Moland Junction</td>\n      <td>large</td>\n      <td>pepperoni</td>\n      <td>10/18/2020</td>\n      <td>42</td>\n      <td>2.97</td>\n      <td>cash</td>\n      <td>12.15</td>\n      <td>delivered</td>\n      <td>3.2</td>\n      <td>49</td>\n    </tr>\n    <tr>\n      <th>12</th>\n      <td>13</td>\n      <td>Yetta Fawdrey</td>\n      <td>NaN</td>\n      <td>49 Lawn Center</td>\n      <td>small</td>\n      <td>mushrooms</td>\n      <td>10/21/2020</td>\n      <td>21</td>\n      <td>1.98</td>\n      <td>cash</td>\n      <td>21.85</td>\n      <td>in progress</td>\n      <td>2.6</td>\n      <td>70</td>\n    </tr>\n    <tr>\n      <th>...</th>\n      <td>...</td>\n      <td>...</td>\n      <td>...</td>\n      <td>...</td>\n      <td>...</td>\n      <td>...</td>\n      <td>...</td>\n      <td>...</td>\n      <td>...</td>\n      <td>...</td>\n      <td>...</td>\n      <td>...</td>\n      <td>...</td>\n      <td>...</td>\n    </tr>\n    <tr>\n      <th>986</th>\n      <td>987</td>\n      <td>Rowe Mewes</td>\n      <td>NaN</td>\n      <td>9 Mccormick Place</td>\n      <td>large</td>\n      <td>pepperoni</td>\n      <td>4/6/2021</td>\n      <td>30</td>\n      <td>5.01</td>\n      <td>cash</td>\n      <td>15.62</td>\n      <td>in progress</td>\n      <td>2.7</td>\n      <td>14</td>\n    </tr>\n    <tr>\n      <th>989</th>\n      <td>990</td>\n      <td>Estrella Timmons</td>\n      <td>NaN</td>\n      <td>9304 Chinook Hill</td>\n      <td>large</td>\n      <td>pepperoni</td>\n      <td>9/4/2021</td>\n      <td>22</td>\n      <td>9.96</td>\n      <td>credit card</td>\n      <td>33.51</td>\n      <td>pending</td>\n      <td>2.5</td>\n      <td>39</td>\n    </tr>\n    <tr>\n      <th>990</th>\n      <td>991</td>\n      <td>Goraud Traice</td>\n      <td>NaN</td>\n      <td>30 Westerfield Crossing</td>\n      <td>small</td>\n      <td>onions</td>\n      <td>6/1/2020</td>\n      <td>43</td>\n      <td>8.81</td>\n      <td>credit card</td>\n      <td>27.76</td>\n      <td>in progress</td>\n      <td>2.1</td>\n      <td>108</td>\n    </tr>\n    <tr>\n      <th>991</th>\n      <td>992</td>\n      <td>Mechelle Whiteman</td>\n      <td>NaN</td>\n      <td>40763 Morningstar Terrace</td>\n      <td>small</td>\n      <td>mushrooms</td>\n      <td>12/13/2021</td>\n      <td>24</td>\n      <td>7.48</td>\n      <td>cash</td>\n      <td>15.59</td>\n      <td>in progress</td>\n      <td>3.2</td>\n      <td>69</td>\n    </tr>\n    <tr>\n      <th>996</th>\n      <td>997</td>\n      <td>Ardra Stert</td>\n      <td>NaN</td>\n      <td>1769 Mendota Center</td>\n      <td>large</td>\n      <td>peppers</td>\n      <td>1/2/2020</td>\n      <td>57</td>\n      <td>2.92</td>\n      <td>cash</td>\n      <td>26.70</td>\n      <td>delivered</td>\n      <td>1.9</td>\n      <td>40</td>\n    </tr>\n  </tbody>\n</table>\n<p>350 rows × 14 columns</p>\n</div>"
          },
          "metadata": {}
        }
      ]
    },
    {
      "cell_type": "code",
      "source": "# What is the most common payment method for orders that took more than 45 minutes to deliver?\ndf_common_pagar = df[df['delivery_duration']>45]['payment_method'].value_counts()\ndf_common_pagar",
      "metadata": {
        "trusted": true
      },
      "execution_count": 13,
      "outputs": [
        {
          "execution_count": 13,
          "output_type": "execute_result",
          "data": {
            "text/plain": "credit card       223\ncash              207\nonline payment    192\nName: payment_method, dtype: int64"
          },
          "metadata": {}
        }
      ]
    },
    {
      "cell_type": "code",
      "source": "# What is the average delivery fee for orders that took more than 30 minutes?\ndf_avg_deliv_fee = df[df['delivery_duration']>30]['delivery_fee'].mean()\ndf_avg_deliv_fee",
      "metadata": {
        "trusted": true
      },
      "execution_count": 14,
      "outputs": [
        {
          "execution_count": 14,
          "output_type": "execute_result",
          "data": {
            "text/plain": "5.035973684210527"
          },
          "metadata": {}
        }
      ]
    },
    {
      "cell_type": "code",
      "source": "# How many orders took more than 45 minutes to deliver and also had a delivery fee of more than $5?\ndf_orders = df[(df['delivery_duration']>45) & (df['delivery_fee'] > 5)].shape[0]\ndf_orders",
      "metadata": {
        "trusted": true
      },
      "execution_count": 24,
      "outputs": [
        {
          "execution_count": 24,
          "output_type": "execute_result",
          "data": {
            "text/plain": "310"
          },
          "metadata": {}
        }
      ]
    },
    {
      "cell_type": "code",
      "source": "# Does the pizza size affect the delivery time? Calculate the average delivery time for each pizza size.\ndf_pizza_size_time = df.groupby('pizza_size')['delivery_time'].mean()\ndf_pizza_size_time # no",
      "metadata": {
        "trusted": true
      },
      "execution_count": 26,
      "outputs": [
        {
          "execution_count": 26,
          "output_type": "execute_result",
          "data": {
            "text/plain": "pizza_size\nlarge     34.179012\nmedium    34.194529\nsmall     33.991354\nName: delivery_time, dtype: float64"
          },
          "metadata": {}
        }
      ]
    },
    {
      "cell_type": "code",
      "source": "# Create your own question and answer it.\n# What are the top 3 most popular pizza toppings?\\\ndf_topping = df['pizza_toppings'].value_counts().sort_values(ascending=False)[:3]\ndf_topping",
      "metadata": {
        "trusted": true
      },
      "execution_count": 29,
      "outputs": [
        {
          "execution_count": 29,
          "output_type": "execute_result",
          "data": {
            "text/plain": "pepperoni    271\nmushrooms    252\npeppers      250\nName: pizza_toppings, dtype: int64"
          },
          "metadata": {}
        }
      ]
    }
  ]
}