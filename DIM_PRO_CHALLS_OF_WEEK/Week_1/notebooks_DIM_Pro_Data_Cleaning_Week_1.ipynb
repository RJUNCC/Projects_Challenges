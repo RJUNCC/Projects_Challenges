{
  "metadata": {
    "language_info": {
      "codemirror_mode": {
        "name": "python",
        "version": 3
      },
      "file_extension": ".py",
      "mimetype": "text/x-python",
      "name": "python",
      "nbconvert_exporter": "python",
      "pygments_lexer": "ipython3",
      "version": "3.8"
    },
    "kernelspec": {
      "name": "python",
      "display_name": "Python (Pyodide)",
      "language": "python"
    }
  },
  "nbformat_minor": 4,
  "nbformat": 4,
  "cells": [
    {
      "cell_type": "code",
      "source": "import pandas as pd",
      "metadata": {
        "trusted": true
      },
      "execution_count": 89,
      "outputs": []
    },
    {
      "cell_type": "code",
      "source": "df = pd.read_csv(\"uncleaned_sales_data.csv\")\ndf.head()",
      "metadata": {
        "trusted": true
      },
      "execution_count": 90,
      "outputs": [
        {
          "execution_count": 90,
          "output_type": "execute_result",
          "data": {
            "text/plain": "  OrderID ProductName  QuantitySold   Price        Date\n0     101      Laptop           2.0  1000.0  2021-09-01\n1     102       Mouse           1.0    50.5  2021-09-02\n2     103    Keyboard           2.0    30.0  2021-09-03\n3     103    Keyboard           NaN    30.0  2021-09-03\n4     105         NaN           3.0     NaN         NaN",
            "text/html": "<div>\n<style scoped>\n    .dataframe tbody tr th:only-of-type {\n        vertical-align: middle;\n    }\n\n    .dataframe tbody tr th {\n        vertical-align: top;\n    }\n\n    .dataframe thead th {\n        text-align: right;\n    }\n</style>\n<table border=\"1\" class=\"dataframe\">\n  <thead>\n    <tr style=\"text-align: right;\">\n      <th></th>\n      <th>OrderID</th>\n      <th>ProductName</th>\n      <th>QuantitySold</th>\n      <th>Price</th>\n      <th>Date</th>\n    </tr>\n  </thead>\n  <tbody>\n    <tr>\n      <th>0</th>\n      <td>101</td>\n      <td>Laptop</td>\n      <td>2.0</td>\n      <td>1000.0</td>\n      <td>2021-09-01</td>\n    </tr>\n    <tr>\n      <th>1</th>\n      <td>102</td>\n      <td>Mouse</td>\n      <td>1.0</td>\n      <td>50.5</td>\n      <td>2021-09-02</td>\n    </tr>\n    <tr>\n      <th>2</th>\n      <td>103</td>\n      <td>Keyboard</td>\n      <td>2.0</td>\n      <td>30.0</td>\n      <td>2021-09-03</td>\n    </tr>\n    <tr>\n      <th>3</th>\n      <td>103</td>\n      <td>Keyboard</td>\n      <td>NaN</td>\n      <td>30.0</td>\n      <td>2021-09-03</td>\n    </tr>\n    <tr>\n      <th>4</th>\n      <td>105</td>\n      <td>NaN</td>\n      <td>3.0</td>\n      <td>NaN</td>\n      <td>NaN</td>\n    </tr>\n  </tbody>\n</table>\n</div>"
          },
          "metadata": {}
        }
      ]
    },
    {
      "cell_type": "code",
      "source": "df['OrderID'].duplicated().sum()",
      "metadata": {
        "trusted": true
      },
      "execution_count": 91,
      "outputs": [
        {
          "execution_count": 91,
          "output_type": "execute_result",
          "data": {
            "text/plain": "1"
          },
          "metadata": {}
        }
      ]
    },
    {
      "cell_type": "code",
      "source": "# Remove any duplicate rows based on the OrderID.\ndf.drop_duplicates(subset=['OrderID'], keep=False, inplace=True)\ndf",
      "metadata": {
        "trusted": true
      },
      "execution_count": 92,
      "outputs": [
        {
          "execution_count": 92,
          "output_type": "execute_result",
          "data": {
            "text/plain": "  OrderID ProductName  QuantitySold   Price        Date\n0     101      Laptop           2.0  1000.0  2021-09-01\n1     102       Mouse           1.0    50.5  2021-09-02\n4     105         NaN           3.0     NaN         NaN\n5    106A     Monitor           4.0    70.2  2021-09-05",
            "text/html": "<div>\n<style scoped>\n    .dataframe tbody tr th:only-of-type {\n        vertical-align: middle;\n    }\n\n    .dataframe tbody tr th {\n        vertical-align: top;\n    }\n\n    .dataframe thead th {\n        text-align: right;\n    }\n</style>\n<table border=\"1\" class=\"dataframe\">\n  <thead>\n    <tr style=\"text-align: right;\">\n      <th></th>\n      <th>OrderID</th>\n      <th>ProductName</th>\n      <th>QuantitySold</th>\n      <th>Price</th>\n      <th>Date</th>\n    </tr>\n  </thead>\n  <tbody>\n    <tr>\n      <th>0</th>\n      <td>101</td>\n      <td>Laptop</td>\n      <td>2.0</td>\n      <td>1000.0</td>\n      <td>2021-09-01</td>\n    </tr>\n    <tr>\n      <th>1</th>\n      <td>102</td>\n      <td>Mouse</td>\n      <td>1.0</td>\n      <td>50.5</td>\n      <td>2021-09-02</td>\n    </tr>\n    <tr>\n      <th>4</th>\n      <td>105</td>\n      <td>NaN</td>\n      <td>3.0</td>\n      <td>NaN</td>\n      <td>NaN</td>\n    </tr>\n    <tr>\n      <th>5</th>\n      <td>106A</td>\n      <td>Monitor</td>\n      <td>4.0</td>\n      <td>70.2</td>\n      <td>2021-09-05</td>\n    </tr>\n  </tbody>\n</table>\n</div>"
          },
          "metadata": {}
        }
      ]
    },
    {
      "cell_type": "code",
      "source": "df['OrderID'].duplicated().sum()",
      "metadata": {
        "trusted": true
      },
      "execution_count": 93,
      "outputs": [
        {
          "execution_count": 93,
          "output_type": "execute_result",
          "data": {
            "text/plain": "0"
          },
          "metadata": {}
        }
      ]
    },
    {
      "cell_type": "code",
      "source": "# Fill in any missing values in the ProductName column with the string ‘UNKNOWN’.\ndf['ProductName'] = df['ProductName'].fillna('UNKNOWN')\ndf",
      "metadata": {
        "trusted": true
      },
      "execution_count": 94,
      "outputs": [
        {
          "execution_count": 94,
          "output_type": "execute_result",
          "data": {
            "text/plain": "  OrderID ProductName  QuantitySold   Price        Date\n0     101      Laptop           2.0  1000.0  2021-09-01\n1     102       Mouse           1.0    50.5  2021-09-02\n4     105     UNKNOWN           3.0     NaN         NaN\n5    106A     Monitor           4.0    70.2  2021-09-05",
            "text/html": "<div>\n<style scoped>\n    .dataframe tbody tr th:only-of-type {\n        vertical-align: middle;\n    }\n\n    .dataframe tbody tr th {\n        vertical-align: top;\n    }\n\n    .dataframe thead th {\n        text-align: right;\n    }\n</style>\n<table border=\"1\" class=\"dataframe\">\n  <thead>\n    <tr style=\"text-align: right;\">\n      <th></th>\n      <th>OrderID</th>\n      <th>ProductName</th>\n      <th>QuantitySold</th>\n      <th>Price</th>\n      <th>Date</th>\n    </tr>\n  </thead>\n  <tbody>\n    <tr>\n      <th>0</th>\n      <td>101</td>\n      <td>Laptop</td>\n      <td>2.0</td>\n      <td>1000.0</td>\n      <td>2021-09-01</td>\n    </tr>\n    <tr>\n      <th>1</th>\n      <td>102</td>\n      <td>Mouse</td>\n      <td>1.0</td>\n      <td>50.5</td>\n      <td>2021-09-02</td>\n    </tr>\n    <tr>\n      <th>4</th>\n      <td>105</td>\n      <td>UNKNOWN</td>\n      <td>3.0</td>\n      <td>NaN</td>\n      <td>NaN</td>\n    </tr>\n    <tr>\n      <th>5</th>\n      <td>106A</td>\n      <td>Monitor</td>\n      <td>4.0</td>\n      <td>70.2</td>\n      <td>2021-09-05</td>\n    </tr>\n  </tbody>\n</table>\n</div>"
          },
          "metadata": {}
        }
      ]
    },
    {
      "cell_type": "code",
      "source": "# Replace any non-numeric values in the QuantitySold column with the median of the other values.\ndf[\"QuantitySold\"] = pd.to_numeric(df['QuantitySold'], errors='coerce').fillna(df['QuantitySold'].median())\ndf",
      "metadata": {
        "trusted": true
      },
      "execution_count": 95,
      "outputs": [
        {
          "execution_count": 95,
          "output_type": "execute_result",
          "data": {
            "text/plain": "  OrderID ProductName  QuantitySold   Price        Date\n0     101      Laptop           2.0  1000.0  2021-09-01\n1     102       Mouse           1.0    50.5  2021-09-02\n4     105     UNKNOWN           3.0     NaN         NaN\n5    106A     Monitor           4.0    70.2  2021-09-05",
            "text/html": "<div>\n<style scoped>\n    .dataframe tbody tr th:only-of-type {\n        vertical-align: middle;\n    }\n\n    .dataframe tbody tr th {\n        vertical-align: top;\n    }\n\n    .dataframe thead th {\n        text-align: right;\n    }\n</style>\n<table border=\"1\" class=\"dataframe\">\n  <thead>\n    <tr style=\"text-align: right;\">\n      <th></th>\n      <th>OrderID</th>\n      <th>ProductName</th>\n      <th>QuantitySold</th>\n      <th>Price</th>\n      <th>Date</th>\n    </tr>\n  </thead>\n  <tbody>\n    <tr>\n      <th>0</th>\n      <td>101</td>\n      <td>Laptop</td>\n      <td>2.0</td>\n      <td>1000.0</td>\n      <td>2021-09-01</td>\n    </tr>\n    <tr>\n      <th>1</th>\n      <td>102</td>\n      <td>Mouse</td>\n      <td>1.0</td>\n      <td>50.5</td>\n      <td>2021-09-02</td>\n    </tr>\n    <tr>\n      <th>4</th>\n      <td>105</td>\n      <td>UNKNOWN</td>\n      <td>3.0</td>\n      <td>NaN</td>\n      <td>NaN</td>\n    </tr>\n    <tr>\n      <th>5</th>\n      <td>106A</td>\n      <td>Monitor</td>\n      <td>4.0</td>\n      <td>70.2</td>\n      <td>2021-09-05</td>\n    </tr>\n  </tbody>\n</table>\n</div>"
          },
          "metadata": {}
        }
      ]
    },
    {
      "cell_type": "code",
      "source": "# Correct the data types for the Price column, and fill missing values with the mean price.\ndf.info()",
      "metadata": {
        "trusted": true
      },
      "execution_count": 96,
      "outputs": [
        {
          "name": "stdout",
          "text": "<class 'pandas.core.frame.DataFrame'>\nInt64Index: 4 entries, 0 to 5\nData columns (total 5 columns):\n #   Column        Non-Null Count  Dtype  \n---  ------        --------------  -----  \n 0   OrderID       4 non-null      object \n 1   ProductName   4 non-null      object \n 2   QuantitySold  4 non-null      float64\n 3   Price         3 non-null      float64\n 4   Date          3 non-null      object \ndtypes: float64(2), object(3)\nmemory usage: 144.0+ bytes\n",
          "output_type": "stream"
        }
      ]
    },
    {
      "cell_type": "code",
      "source": "df['Price'] = df['Price'].fillna(df['Price'].mean()).round(2)\ndf",
      "metadata": {
        "trusted": true
      },
      "execution_count": 98,
      "outputs": [
        {
          "execution_count": 98,
          "output_type": "execute_result",
          "data": {
            "text/plain": "  OrderID ProductName  QuantitySold    Price        Date\n0     101      Laptop           2.0  1000.00  2021-09-01\n1     102       Mouse           1.0    50.50  2021-09-02\n4     105     UNKNOWN           3.0   373.57         NaN\n5    106A     Monitor           4.0    70.20  2021-09-05",
            "text/html": "<div>\n<style scoped>\n    .dataframe tbody tr th:only-of-type {\n        vertical-align: middle;\n    }\n\n    .dataframe tbody tr th {\n        vertical-align: top;\n    }\n\n    .dataframe thead th {\n        text-align: right;\n    }\n</style>\n<table border=\"1\" class=\"dataframe\">\n  <thead>\n    <tr style=\"text-align: right;\">\n      <th></th>\n      <th>OrderID</th>\n      <th>ProductName</th>\n      <th>QuantitySold</th>\n      <th>Price</th>\n      <th>Date</th>\n    </tr>\n  </thead>\n  <tbody>\n    <tr>\n      <th>0</th>\n      <td>101</td>\n      <td>Laptop</td>\n      <td>2.0</td>\n      <td>1000.00</td>\n      <td>2021-09-01</td>\n    </tr>\n    <tr>\n      <th>1</th>\n      <td>102</td>\n      <td>Mouse</td>\n      <td>1.0</td>\n      <td>50.50</td>\n      <td>2021-09-02</td>\n    </tr>\n    <tr>\n      <th>4</th>\n      <td>105</td>\n      <td>UNKNOWN</td>\n      <td>3.0</td>\n      <td>373.57</td>\n      <td>NaN</td>\n    </tr>\n    <tr>\n      <th>5</th>\n      <td>106A</td>\n      <td>Monitor</td>\n      <td>4.0</td>\n      <td>70.20</td>\n      <td>2021-09-05</td>\n    </tr>\n  </tbody>\n</table>\n</div>"
          },
          "metadata": {}
        }
      ]
    },
    {
      "cell_type": "code",
      "source": "# Make sure the Date column is in the correct date format. Replace any invalid dates with the most frequent date.\ndf['Date'] = df['Date'].astype('datetime64[ns]')\nmost_recent_date = max(df['Date'])\ndf['Date'].fillna(most_recent_date, inplace=True)\ndf",
      "metadata": {
        "trusted": true
      },
      "execution_count": 108,
      "outputs": [
        {
          "execution_count": 108,
          "output_type": "execute_result",
          "data": {
            "text/plain": "  OrderID ProductName  QuantitySold    Price       Date\n0     101      Laptop           2.0  1000.00 2021-09-01\n1     102       Mouse           1.0    50.50 2021-09-02\n4     105     UNKNOWN           3.0   373.57 2021-09-05\n5    106A     Monitor           4.0    70.20 2021-09-05",
            "text/html": "<div>\n<style scoped>\n    .dataframe tbody tr th:only-of-type {\n        vertical-align: middle;\n    }\n\n    .dataframe tbody tr th {\n        vertical-align: top;\n    }\n\n    .dataframe thead th {\n        text-align: right;\n    }\n</style>\n<table border=\"1\" class=\"dataframe\">\n  <thead>\n    <tr style=\"text-align: right;\">\n      <th></th>\n      <th>OrderID</th>\n      <th>ProductName</th>\n      <th>QuantitySold</th>\n      <th>Price</th>\n      <th>Date</th>\n    </tr>\n  </thead>\n  <tbody>\n    <tr>\n      <th>0</th>\n      <td>101</td>\n      <td>Laptop</td>\n      <td>2.0</td>\n      <td>1000.00</td>\n      <td>2021-09-01</td>\n    </tr>\n    <tr>\n      <th>1</th>\n      <td>102</td>\n      <td>Mouse</td>\n      <td>1.0</td>\n      <td>50.50</td>\n      <td>2021-09-02</td>\n    </tr>\n    <tr>\n      <th>4</th>\n      <td>105</td>\n      <td>UNKNOWN</td>\n      <td>3.0</td>\n      <td>373.57</td>\n      <td>2021-09-05</td>\n    </tr>\n    <tr>\n      <th>5</th>\n      <td>106A</td>\n      <td>Monitor</td>\n      <td>4.0</td>\n      <td>70.20</td>\n      <td>2021-09-05</td>\n    </tr>\n  </tbody>\n</table>\n</div>"
          },
          "metadata": {}
        }
      ]
    }
  ]
}